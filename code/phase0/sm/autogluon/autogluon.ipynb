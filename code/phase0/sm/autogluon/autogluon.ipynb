{
 "cells": [
  {
   "cell_type": "markdown",
   "id": "494f5d2b",
   "metadata": {},
   "source": [
    "### Install MXNet and autogluon"
   ]
  },
  {
   "cell_type": "markdown",
   "id": "e3fd767f",
   "metadata": {},
   "source": [
    "autogluon은 fit() - Training 함수 호출만으로 상당히 높은 정확도의 모델을 생성하며, 최신 기능들이 계속 업데이트 되어지고 있습니다."
   ]
  },
  {
   "cell_type": "markdown",
   "id": "e6630e07",
   "metadata": {},
   "source": [
    "source https://autogluon.mxnet.io/\n",
    "##### 참고\n",
    "* 한글 동영상 - https://youtu.be/xnimaVNTWfc\n",
    "* aws 블로그 - https://aws.amazon.com/ko/blogs/opensource/machine-learning-with-autogluon-an-open-source-automl-library/\n",
    "* 블로그의 샘플코드 - https://github.com/shashankprasanna/autogluon-demos/blob/master/otto-kaggle-example.ipynb\n",
    "* 데모 - https://github.com/shashankprasanna/autogluon-demos\n",
    "* 소스 - https://github.com/awslabs/autogluon\n",
    "* paper - https://arxiv.org/abs/2003.06505 https://arxiv.org/pdf/2003.06505.pdf"
   ]
  },
  {
   "cell_type": "code",
   "execution_count": 2,
   "id": "bfc6123f",
   "metadata": {},
   "outputs": [],
   "source": [
    "import mxnet"
   ]
  },
  {
   "cell_type": "code",
   "execution_count": 70,
   "id": "084b58bc",
   "metadata": {},
   "outputs": [],
   "source": [
    "from sagemaker.serializers import CSVSerializer"
   ]
  },
  {
   "cell_type": "code",
   "execution_count": 3,
   "id": "ad94d31c",
   "metadata": {},
   "outputs": [
    {
     "data": {
      "text/plain": [
       "'1.6.0'"
      ]
     },
     "execution_count": 3,
     "metadata": {},
     "output_type": "execute_result"
    }
   ],
   "source": [
    "mxnet.__version__"
   ]
  },
  {
   "cell_type": "code",
   "execution_count": 49,
   "id": "80a19576",
   "metadata": {},
   "outputs": [
    {
     "name": "stdout",
     "output_type": "stream",
     "text": [
      "Requirement already satisfied: pip in /home/ec2-user/anaconda3/envs/mxnet_p36/lib/python3.6/site-packages (21.2.4)\n",
      "Collecting pip\n",
      "  Downloading pip-21.3.1-py3-none-any.whl (1.7 MB)\n",
      "\u001b[K     |████████████████████████████████| 1.7 MB 1.6 MB/s eta 0:00:01\n",
      "\u001b[?25hInstalling collected packages: pip\n",
      "  Attempting uninstall: pip\n",
      "    Found existing installation: pip 21.2.4\n",
      "    Uninstalling pip-21.2.4:\n",
      "      Successfully uninstalled pip-21.2.4\n",
      "Successfully installed pip-21.3.1\n"
     ]
    }
   ],
   "source": [
    "!python -m pip install --upgrade pip"
   ]
  },
  {
   "cell_type": "code",
   "execution_count": 50,
   "id": "63ff6c3d",
   "metadata": {},
   "outputs": [],
   "source": [
    "!pip install -q -U 'sagemaker>=2.66'"
   ]
  },
  {
   "cell_type": "code",
   "execution_count": 4,
   "id": "2f6ca31b",
   "metadata": {
    "scrolled": true
   },
   "outputs": [
    {
     "name": "stdout",
     "output_type": "stream",
     "text": [
      "Requirement already satisfied: autogluon==0.1.0 in /home/ec2-user/anaconda3/envs/mxnet_p36/lib/python3.6/site-packages (0.1.0)\n",
      "Requirement already satisfied: autogluon.core==0.1.0 in /home/ec2-user/anaconda3/envs/mxnet_p36/lib/python3.6/site-packages (from autogluon==0.1.0) (0.1.0)\n",
      "Requirement already satisfied: autogluon.text==0.1.0 in /home/ec2-user/anaconda3/envs/mxnet_p36/lib/python3.6/site-packages (from autogluon==0.1.0) (0.1.0)\n",
      "Requirement already satisfied: autogluon.tabular[all]==0.1.0 in /home/ec2-user/anaconda3/envs/mxnet_p36/lib/python3.6/site-packages (from autogluon==0.1.0) (0.1.0)\n",
      "Requirement already satisfied: autogluon.mxnet==0.1.0 in /home/ec2-user/anaconda3/envs/mxnet_p36/lib/python3.6/site-packages (from autogluon==0.1.0) (0.1.0)\n",
      "Requirement already satisfied: autogluon.extra==0.1.0 in /home/ec2-user/anaconda3/envs/mxnet_p36/lib/python3.6/site-packages (from autogluon==0.1.0) (0.1.0)\n",
      "Requirement already satisfied: autogluon.features==0.1.0 in /home/ec2-user/anaconda3/envs/mxnet_p36/lib/python3.6/site-packages (from autogluon==0.1.0) (0.1.0)\n",
      "Requirement already satisfied: autogluon.vision==0.1.0 in /home/ec2-user/anaconda3/envs/mxnet_p36/lib/python3.6/site-packages (from autogluon==0.1.0) (0.1.0)\n",
      "Requirement already satisfied: scipy==1.5.4 in /home/ec2-user/anaconda3/envs/mxnet_p36/lib/python3.6/site-packages (from autogluon.core==0.1.0->autogluon==0.1.0) (1.5.4)\n",
      "Requirement already satisfied: pandas<2.0,>=1.0.0 in /home/ec2-user/anaconda3/envs/mxnet_p36/lib/python3.6/site-packages (from autogluon.core==0.1.0->autogluon==0.1.0) (1.1.5)\n",
      "Requirement already satisfied: cython in /home/ec2-user/anaconda3/envs/mxnet_p36/lib/python3.6/site-packages (from autogluon.core==0.1.0->autogluon==0.1.0) (0.29.22)\n",
      "Requirement already satisfied: numpy==1.19.5 in /home/ec2-user/anaconda3/envs/mxnet_p36/lib/python3.6/site-packages (from autogluon.core==0.1.0->autogluon==0.1.0) (1.19.5)\n",
      "Requirement already satisfied: matplotlib in /home/ec2-user/anaconda3/envs/mxnet_p36/lib/python3.6/site-packages (from autogluon.core==0.1.0->autogluon==0.1.0) (3.3.4)\n",
      "Requirement already satisfied: dask>=2.6.0 in /home/ec2-user/anaconda3/envs/mxnet_p36/lib/python3.6/site-packages (from autogluon.core==0.1.0->autogluon==0.1.0) (2021.2.0)\n",
      "Requirement already satisfied: distributed>=2.6.0 in /home/ec2-user/anaconda3/envs/mxnet_p36/lib/python3.6/site-packages (from autogluon.core==0.1.0->autogluon==0.1.0) (2021.2.0)\n",
      "Requirement already satisfied: tornado>=5.0.1 in /home/ec2-user/anaconda3/envs/mxnet_p36/lib/python3.6/site-packages (from autogluon.core==0.1.0->autogluon==0.1.0) (6.1)\n",
      "Requirement already satisfied: dill==0.3.3 in /home/ec2-user/anaconda3/envs/mxnet_p36/lib/python3.6/site-packages (from autogluon.core==0.1.0->autogluon==0.1.0) (0.3.3)\n",
      "Requirement already satisfied: requests in /home/ec2-user/anaconda3/envs/mxnet_p36/lib/python3.6/site-packages (from autogluon.core==0.1.0->autogluon==0.1.0) (2.26.0)\n",
      "Requirement already satisfied: tqdm>=4.38.0 in /home/ec2-user/anaconda3/envs/mxnet_p36/lib/python3.6/site-packages (from autogluon.core==0.1.0->autogluon==0.1.0) (4.62.2)\n",
      "Requirement already satisfied: boto3 in /home/ec2-user/anaconda3/envs/mxnet_p36/lib/python3.6/site-packages (from autogluon.core==0.1.0->autogluon==0.1.0) (1.18.45)\n",
      "Requirement already satisfied: graphviz<0.9.0,>=0.8.1 in /home/ec2-user/anaconda3/envs/mxnet_p36/lib/python3.6/site-packages (from autogluon.core==0.1.0->autogluon==0.1.0) (0.8.4)\n",
      "Requirement already satisfied: autograd>=1.3 in /home/ec2-user/anaconda3/envs/mxnet_p36/lib/python3.6/site-packages (from autogluon.core==0.1.0->autogluon==0.1.0) (1.3)\n",
      "Requirement already satisfied: paramiko>=2.4 in /home/ec2-user/anaconda3/envs/mxnet_p36/lib/python3.6/site-packages (from autogluon.core==0.1.0->autogluon==0.1.0) (2.7.2)\n",
      "Requirement already satisfied: scikit-learn<0.25,>=0.22.0 in /home/ec2-user/anaconda3/envs/mxnet_p36/lib/python3.6/site-packages (from autogluon.core==0.1.0->autogluon==0.1.0) (0.24.1)\n",
      "Requirement already satisfied: ConfigSpace==0.4.18 in /home/ec2-user/anaconda3/envs/mxnet_p36/lib/python3.6/site-packages (from autogluon.core==0.1.0->autogluon==0.1.0) (0.4.18)\n",
      "Requirement already satisfied: openml in /home/ec2-user/anaconda3/envs/mxnet_p36/lib/python3.6/site-packages (from autogluon.extra==0.1.0->autogluon==0.1.0) (0.12.2)\n",
      "Requirement already satisfied: pytest in /home/ec2-user/anaconda3/envs/mxnet_p36/lib/python3.6/site-packages (from autogluon.extra==0.1.0->autogluon==0.1.0) (6.2.2)\n",
      "Requirement already satisfied: gluoncv<0.11.0,>=0.9.4 in /home/ec2-user/anaconda3/envs/mxnet_p36/lib/python3.6/site-packages (from autogluon.extra==0.1.0->autogluon==0.1.0) (0.10.4.post4)\n",
      "Requirement already satisfied: bokeh in /home/ec2-user/anaconda3/envs/mxnet_p36/lib/python3.6/site-packages (from autogluon.extra==0.1.0->autogluon==0.1.0) (2.2.3)\n",
      "Requirement already satisfied: Pillow<=8.1 in /home/ec2-user/anaconda3/envs/mxnet_p36/lib/python3.6/site-packages (from autogluon.mxnet==0.1.0->autogluon==0.1.0) (8.1.0)\n",
      "Requirement already satisfied: networkx<3.0,>=2.3 in /home/ec2-user/anaconda3/envs/mxnet_p36/lib/python3.6/site-packages (from autogluon.tabular[all]==0.1.0->autogluon==0.1.0) (2.5)\n",
      "Requirement already satisfied: psutil<=5.7.0,>=5.0.0 in /home/ec2-user/anaconda3/envs/mxnet_p36/lib/python3.6/site-packages (from autogluon.tabular[all]==0.1.0->autogluon==0.1.0) (5.7.0)\n",
      "Requirement already satisfied: torch<2.0,>=1.0 in /home/ec2-user/anaconda3/envs/mxnet_p36/lib/python3.6/site-packages (from autogluon.tabular[all]==0.1.0->autogluon==0.1.0) (1.10.0)\n",
      "Requirement already satisfied: xgboost<1.4,>=1.3.2 in /home/ec2-user/anaconda3/envs/mxnet_p36/lib/python3.6/site-packages (from autogluon.tabular[all]==0.1.0->autogluon==0.1.0) (1.3.3)\n",
      "Requirement already satisfied: catboost<0.25,>=0.23.0 in /home/ec2-user/anaconda3/envs/mxnet_p36/lib/python3.6/site-packages (from autogluon.tabular[all]==0.1.0->autogluon==0.1.0) (0.24.4)\n",
      "Requirement already satisfied: lightgbm<4.0,>=3.0 in /home/ec2-user/anaconda3/envs/mxnet_p36/lib/python3.6/site-packages (from autogluon.tabular[all]==0.1.0->autogluon==0.1.0) (3.3.1)\n",
      "Requirement already satisfied: fastai<2.0,>=1.0 in /home/ec2-user/anaconda3/envs/mxnet_p36/lib/python3.6/site-packages (from autogluon.tabular[all]==0.1.0->autogluon==0.1.0) (1.0.61)\n",
      "Requirement already satisfied: pyarrow>=3.0.0 in /home/ec2-user/anaconda3/envs/mxnet_p36/lib/python3.6/site-packages (from autogluon.text==0.1.0->autogluon==0.1.0) (5.0.0)\n",
      "Requirement already satisfied: autogluon-contrib-nlp==0.0.1b20210201 in /home/ec2-user/anaconda3/envs/mxnet_p36/lib/python3.6/site-packages (from autogluon.text==0.1.0->autogluon==0.1.0) (0.0.1b20210201)\n",
      "Requirement already satisfied: regex in /home/ec2-user/anaconda3/envs/mxnet_p36/lib/python3.6/site-packages (from autogluon-contrib-nlp==0.0.1b20210201->autogluon.text==0.1.0->autogluon==0.1.0) (2020.11.13)\n",
      "Requirement already satisfied: tokenizers==0.9.4 in /home/ec2-user/anaconda3/envs/mxnet_p36/lib/python3.6/site-packages (from autogluon-contrib-nlp==0.0.1b20210201->autogluon.text==0.1.0->autogluon==0.1.0) (0.9.4)\n",
      "Requirement already satisfied: contextvars in /home/ec2-user/anaconda3/envs/mxnet_p36/lib/python3.6/site-packages (from autogluon-contrib-nlp==0.0.1b20210201->autogluon.text==0.1.0->autogluon==0.1.0) (2.4)\n",
      "Requirement already satisfied: yacs>=0.1.6 in /home/ec2-user/anaconda3/envs/mxnet_p36/lib/python3.6/site-packages (from autogluon-contrib-nlp==0.0.1b20210201->autogluon.text==0.1.0->autogluon==0.1.0) (0.1.8)\n",
      "Requirement already satisfied: sentencepiece==0.1.95 in /home/ec2-user/anaconda3/envs/mxnet_p36/lib/python3.6/site-packages (from autogluon-contrib-nlp==0.0.1b20210201->autogluon.text==0.1.0->autogluon==0.1.0) (0.1.95)\n",
      "Requirement already satisfied: protobuf in /home/ec2-user/anaconda3/envs/mxnet_p36/lib/python3.6/site-packages (from autogluon-contrib-nlp==0.0.1b20210201->autogluon.text==0.1.0->autogluon==0.1.0) (3.15.2)\n",
      "Requirement already satisfied: flake8 in /home/ec2-user/anaconda3/envs/mxnet_p36/lib/python3.6/site-packages (from autogluon-contrib-nlp==0.0.1b20210201->autogluon.text==0.1.0->autogluon==0.1.0) (3.8.4)\n",
      "Requirement already satisfied: sacremoses>=0.0.38 in /home/ec2-user/anaconda3/envs/mxnet_p36/lib/python3.6/site-packages (from autogluon-contrib-nlp==0.0.1b20210201->autogluon.text==0.1.0->autogluon==0.1.0) (0.0.46)\n",
      "Requirement already satisfied: sacrebleu in /home/ec2-user/anaconda3/envs/mxnet_p36/lib/python3.6/site-packages (from autogluon-contrib-nlp==0.0.1b20210201->autogluon.text==0.1.0->autogluon==0.1.0) (2.0.0)\n",
      "Requirement already satisfied: d8<1.0,>=0.0.2 in /home/ec2-user/anaconda3/envs/mxnet_p36/lib/python3.6/site-packages (from autogluon.vision==0.1.0->autogluon==0.1.0) (0.0.2.post0)\n",
      "Requirement already satisfied: pyparsing in /home/ec2-user/anaconda3/envs/mxnet_p36/lib/python3.6/site-packages (from ConfigSpace==0.4.18->autogluon.core==0.1.0->autogluon==0.1.0) (2.4.7)\n",
      "Requirement already satisfied: future>=0.15.2 in /home/ec2-user/anaconda3/envs/mxnet_p36/lib/python3.6/site-packages (from autograd>=1.3->autogluon.core==0.1.0->autogluon==0.1.0) (0.18.2)\n",
      "Requirement already satisfied: six in /home/ec2-user/anaconda3/envs/mxnet_p36/lib/python3.6/site-packages (from catboost<0.25,>=0.23.0->autogluon.tabular[all]==0.1.0->autogluon==0.1.0) (1.15.0)\n",
      "Requirement already satisfied: plotly in /home/ec2-user/anaconda3/envs/mxnet_p36/lib/python3.6/site-packages (from catboost<0.25,>=0.23.0->autogluon.tabular[all]==0.1.0->autogluon==0.1.0) (5.3.1)\n",
      "Requirement already satisfied: xxhash in /home/ec2-user/anaconda3/envs/mxnet_p36/lib/python3.6/site-packages (from d8<1.0,>=0.0.2->autogluon.vision==0.1.0->autogluon==0.1.0) (2.0.2)\n",
      "Requirement already satisfied: dataclasses in /home/ec2-user/anaconda3/envs/mxnet_p36/lib/python3.6/site-packages (from d8<1.0,>=0.0.2->autogluon.vision==0.1.0->autogluon==0.1.0) (0.8)\n",
      "Requirement already satisfied: kaggle in /home/ec2-user/anaconda3/envs/mxnet_p36/lib/python3.6/site-packages (from d8<1.0,>=0.0.2->autogluon.vision==0.1.0->autogluon==0.1.0) (1.5.12)\n",
      "Requirement already satisfied: pyyaml in /home/ec2-user/anaconda3/envs/mxnet_p36/lib/python3.6/site-packages (from dask>=2.6.0->autogluon.core==0.1.0->autogluon==0.1.0) (5.4.1)\n",
      "Requirement already satisfied: toolz>=0.8.2 in /home/ec2-user/anaconda3/envs/mxnet_p36/lib/python3.6/site-packages (from distributed>=2.6.0->autogluon.core==0.1.0->autogluon==0.1.0) (0.11.1)\n",
      "Requirement already satisfied: setuptools in /home/ec2-user/anaconda3/envs/mxnet_p36/lib/python3.6/site-packages (from distributed>=2.6.0->autogluon.core==0.1.0->autogluon==0.1.0) (49.6.0.post20210108)\n",
      "Requirement already satisfied: cloudpickle>=1.5.0 in /home/ec2-user/anaconda3/envs/mxnet_p36/lib/python3.6/site-packages (from distributed>=2.6.0->autogluon.core==0.1.0->autogluon==0.1.0) (1.6.0)\n",
      "Requirement already satisfied: sortedcontainers!=2.0.0,!=2.0.1 in /home/ec2-user/anaconda3/envs/mxnet_p36/lib/python3.6/site-packages (from distributed>=2.6.0->autogluon.core==0.1.0->autogluon==0.1.0) (2.3.0)\n",
      "Requirement already satisfied: click>=6.6 in /home/ec2-user/anaconda3/envs/mxnet_p36/lib/python3.6/site-packages (from distributed>=2.6.0->autogluon.core==0.1.0->autogluon==0.1.0) (7.1.2)\n",
      "Requirement already satisfied: zict>=0.1.3 in /home/ec2-user/anaconda3/envs/mxnet_p36/lib/python3.6/site-packages (from distributed>=2.6.0->autogluon.core==0.1.0->autogluon==0.1.0) (2.0.0)\n",
      "Requirement already satisfied: msgpack>=0.6.0 in /home/ec2-user/anaconda3/envs/mxnet_p36/lib/python3.6/site-packages (from distributed>=2.6.0->autogluon.core==0.1.0->autogluon==0.1.0) (1.0.0)\n",
      "Requirement already satisfied: tblib>=1.6.0 in /home/ec2-user/anaconda3/envs/mxnet_p36/lib/python3.6/site-packages (from distributed>=2.6.0->autogluon.core==0.1.0->autogluon==0.1.0) (1.6.0)\n",
      "Requirement already satisfied: bottleneck in /home/ec2-user/anaconda3/envs/mxnet_p36/lib/python3.6/site-packages (from fastai<2.0,>=1.0->autogluon.tabular[all]==0.1.0->autogluon==0.1.0) (1.3.2)\n",
      "Requirement already satisfied: packaging in /home/ec2-user/anaconda3/envs/mxnet_p36/lib/python3.6/site-packages (from fastai<2.0,>=1.0->autogluon.tabular[all]==0.1.0->autogluon==0.1.0) (20.9)\n",
      "Requirement already satisfied: numexpr in /home/ec2-user/anaconda3/envs/mxnet_p36/lib/python3.6/site-packages (from fastai<2.0,>=1.0->autogluon.tabular[all]==0.1.0->autogluon==0.1.0) (2.7.2)\n",
      "Requirement already satisfied: nvidia-ml-py3 in /home/ec2-user/anaconda3/envs/mxnet_p36/lib/python3.6/site-packages (from fastai<2.0,>=1.0->autogluon.tabular[all]==0.1.0->autogluon==0.1.0) (7.352.0)\n",
      "Requirement already satisfied: spacy>=2.0.18 in /home/ec2-user/anaconda3/envs/mxnet_p36/lib/python3.6/site-packages (from fastai<2.0,>=1.0->autogluon.tabular[all]==0.1.0->autogluon==0.1.0) (3.2.0)\n",
      "Requirement already satisfied: torchvision in /home/ec2-user/anaconda3/envs/mxnet_p36/lib/python3.6/site-packages (from fastai<2.0,>=1.0->autogluon.tabular[all]==0.1.0->autogluon==0.1.0) (0.11.1)\n",
      "Requirement already satisfied: fastprogress>=0.2.1 in /home/ec2-user/anaconda3/envs/mxnet_p36/lib/python3.6/site-packages (from fastai<2.0,>=1.0->autogluon.tabular[all]==0.1.0->autogluon==0.1.0) (1.0.0)\n",
      "Requirement already satisfied: beautifulsoup4 in /home/ec2-user/anaconda3/envs/mxnet_p36/lib/python3.6/site-packages (from fastai<2.0,>=1.0->autogluon.tabular[all]==0.1.0->autogluon==0.1.0) (4.9.3)\n",
      "Requirement already satisfied: autocfg in /home/ec2-user/anaconda3/envs/mxnet_p36/lib/python3.6/site-packages (from gluoncv<0.11.0,>=0.9.4->autogluon.extra==0.1.0->autogluon==0.1.0) (0.0.8)\n",
      "Requirement already satisfied: portalocker in /home/ec2-user/anaconda3/envs/mxnet_p36/lib/python3.6/site-packages (from gluoncv<0.11.0,>=0.9.4->autogluon.extra==0.1.0->autogluon==0.1.0) (2.3.2)\n",
      "Requirement already satisfied: opencv-python in /home/ec2-user/anaconda3/envs/mxnet_p36/lib/python3.6/site-packages (from gluoncv<0.11.0,>=0.9.4->autogluon.extra==0.1.0->autogluon==0.1.0) (4.5.1.48)\n",
      "Requirement already satisfied: wheel in /home/ec2-user/anaconda3/envs/mxnet_p36/lib/python3.6/site-packages (from lightgbm<4.0,>=3.0->autogluon.tabular[all]==0.1.0->autogluon==0.1.0) (0.36.2)\n",
      "Requirement already satisfied: decorator>=4.3.0 in /home/ec2-user/anaconda3/envs/mxnet_p36/lib/python3.6/site-packages (from networkx<3.0,>=2.3->autogluon.tabular[all]==0.1.0->autogluon==0.1.0) (4.4.2)\n",
      "Requirement already satisfied: python-dateutil>=2.7.3 in /home/ec2-user/anaconda3/envs/mxnet_p36/lib/python3.6/site-packages (from pandas<2.0,>=1.0.0->autogluon.core==0.1.0->autogluon==0.1.0) (2.8.1)\n",
      "Requirement already satisfied: pytz>=2017.2 in /home/ec2-user/anaconda3/envs/mxnet_p36/lib/python3.6/site-packages (from pandas<2.0,>=1.0.0->autogluon.core==0.1.0->autogluon==0.1.0) (2021.1)\n",
      "Requirement already satisfied: bcrypt>=3.1.3 in /home/ec2-user/anaconda3/envs/mxnet_p36/lib/python3.6/site-packages (from paramiko>=2.4->autogluon.core==0.1.0->autogluon==0.1.0) (3.2.0)\n",
      "Requirement already satisfied: pynacl>=1.0.1 in /home/ec2-user/anaconda3/envs/mxnet_p36/lib/python3.6/site-packages (from paramiko>=2.4->autogluon.core==0.1.0->autogluon==0.1.0) (1.4.0)\n",
      "Requirement already satisfied: cryptography>=2.5 in /home/ec2-user/anaconda3/envs/mxnet_p36/lib/python3.6/site-packages (from paramiko>=2.4->autogluon.core==0.1.0->autogluon==0.1.0) (3.4.4)\n",
      "Requirement already satisfied: cffi>=1.1 in /home/ec2-user/anaconda3/envs/mxnet_p36/lib/python3.6/site-packages (from bcrypt>=3.1.3->paramiko>=2.4->autogluon.core==0.1.0->autogluon==0.1.0) (1.14.5)\n",
      "Requirement already satisfied: pycparser in /home/ec2-user/anaconda3/envs/mxnet_p36/lib/python3.6/site-packages (from cffi>=1.1->bcrypt>=3.1.3->paramiko>=2.4->autogluon.core==0.1.0->autogluon==0.1.0) (2.20)\n",
      "Requirement already satisfied: joblib in /home/ec2-user/anaconda3/envs/mxnet_p36/lib/python3.6/site-packages (from sacremoses>=0.0.38->autogluon-contrib-nlp==0.0.1b20210201->autogluon.text==0.1.0->autogluon==0.1.0) (1.0.1)\n",
      "Requirement already satisfied: threadpoolctl>=2.0.0 in /home/ec2-user/anaconda3/envs/mxnet_p36/lib/python3.6/site-packages (from scikit-learn<0.25,>=0.22.0->autogluon.core==0.1.0->autogluon==0.1.0) (2.1.0)\n",
      "Requirement already satisfied: typing-extensions<4.0.0.0,>=3.7.4 in /home/ec2-user/anaconda3/envs/mxnet_p36/lib/python3.6/site-packages (from spacy>=2.0.18->fastai<2.0,>=1.0->autogluon.tabular[all]==0.1.0->autogluon==0.1.0) (3.10.0.2)\n",
      "Requirement already satisfied: jinja2 in /home/ec2-user/anaconda3/envs/mxnet_p36/lib/python3.6/site-packages (from spacy>=2.0.18->fastai<2.0,>=1.0->autogluon.tabular[all]==0.1.0->autogluon==0.1.0) (2.11.3)\n",
      "Requirement already satisfied: typer<0.5.0,>=0.3.0 in /home/ec2-user/anaconda3/envs/mxnet_p36/lib/python3.6/site-packages (from spacy>=2.0.18->fastai<2.0,>=1.0->autogluon.tabular[all]==0.1.0->autogluon==0.1.0) (0.4.0)\n",
      "Requirement already satisfied: wasabi<1.1.0,>=0.8.1 in /home/ec2-user/anaconda3/envs/mxnet_p36/lib/python3.6/site-packages (from spacy>=2.0.18->fastai<2.0,>=1.0->autogluon.tabular[all]==0.1.0->autogluon==0.1.0) (0.8.2)\n",
      "Requirement already satisfied: spacy-loggers<2.0.0,>=1.0.0 in /home/ec2-user/anaconda3/envs/mxnet_p36/lib/python3.6/site-packages (from spacy>=2.0.18->fastai<2.0,>=1.0->autogluon.tabular[all]==0.1.0->autogluon==0.1.0) (1.0.1)\n",
      "Requirement already satisfied: pydantic!=1.8,!=1.8.1,<1.9.0,>=1.7.4 in /home/ec2-user/anaconda3/envs/mxnet_p36/lib/python3.6/site-packages (from spacy>=2.0.18->fastai<2.0,>=1.0->autogluon.tabular[all]==0.1.0->autogluon==0.1.0) (1.8.2)\n",
      "Requirement already satisfied: spacy-legacy<3.1.0,>=3.0.8 in /home/ec2-user/anaconda3/envs/mxnet_p36/lib/python3.6/site-packages (from spacy>=2.0.18->fastai<2.0,>=1.0->autogluon.tabular[all]==0.1.0->autogluon==0.1.0) (3.0.8)\n",
      "Requirement already satisfied: langcodes<4.0.0,>=3.2.0 in /home/ec2-user/anaconda3/envs/mxnet_p36/lib/python3.6/site-packages (from spacy>=2.0.18->fastai<2.0,>=1.0->autogluon.tabular[all]==0.1.0->autogluon==0.1.0) (3.3.0)\n",
      "Requirement already satisfied: murmurhash<1.1.0,>=0.28.0 in /home/ec2-user/anaconda3/envs/mxnet_p36/lib/python3.6/site-packages (from spacy>=2.0.18->fastai<2.0,>=1.0->autogluon.tabular[all]==0.1.0->autogluon==0.1.0) (1.0.6)\n",
      "Requirement already satisfied: blis<0.8.0,>=0.4.0 in /home/ec2-user/anaconda3/envs/mxnet_p36/lib/python3.6/site-packages (from spacy>=2.0.18->fastai<2.0,>=1.0->autogluon.tabular[all]==0.1.0->autogluon==0.1.0) (0.7.5)\n",
      "Requirement already satisfied: srsly<3.0.0,>=2.4.1 in /home/ec2-user/anaconda3/envs/mxnet_p36/lib/python3.6/site-packages (from spacy>=2.0.18->fastai<2.0,>=1.0->autogluon.tabular[all]==0.1.0->autogluon==0.1.0) (2.4.2)\n",
      "Requirement already satisfied: thinc<8.1.0,>=8.0.12 in /home/ec2-user/anaconda3/envs/mxnet_p36/lib/python3.6/site-packages (from spacy>=2.0.18->fastai<2.0,>=1.0->autogluon.tabular[all]==0.1.0->autogluon==0.1.0) (8.0.13)\n",
      "Requirement already satisfied: cymem<2.1.0,>=2.0.2 in /home/ec2-user/anaconda3/envs/mxnet_p36/lib/python3.6/site-packages (from spacy>=2.0.18->fastai<2.0,>=1.0->autogluon.tabular[all]==0.1.0->autogluon==0.1.0) (2.0.6)\n",
      "Requirement already satisfied: catalogue<2.1.0,>=2.0.6 in /home/ec2-user/anaconda3/envs/mxnet_p36/lib/python3.6/site-packages (from spacy>=2.0.18->fastai<2.0,>=1.0->autogluon.tabular[all]==0.1.0->autogluon==0.1.0) (2.0.6)\n",
      "Requirement already satisfied: pathy>=0.3.5 in /home/ec2-user/anaconda3/envs/mxnet_p36/lib/python3.6/site-packages (from spacy>=2.0.18->fastai<2.0,>=1.0->autogluon.tabular[all]==0.1.0->autogluon==0.1.0) (0.6.1)\n",
      "Requirement already satisfied: preshed<3.1.0,>=3.0.2 in /home/ec2-user/anaconda3/envs/mxnet_p36/lib/python3.6/site-packages (from spacy>=2.0.18->fastai<2.0,>=1.0->autogluon.tabular[all]==0.1.0->autogluon==0.1.0) (3.0.6)\n",
      "Requirement already satisfied: zipp>=0.5 in /home/ec2-user/anaconda3/envs/mxnet_p36/lib/python3.6/site-packages (from catalogue<2.1.0,>=2.0.6->spacy>=2.0.18->fastai<2.0,>=1.0->autogluon.tabular[all]==0.1.0->autogluon==0.1.0) (3.4.0)\n",
      "Requirement already satisfied: smart-open<6.0.0,>=5.0.0 in /home/ec2-user/anaconda3/envs/mxnet_p36/lib/python3.6/site-packages (from pathy>=0.3.5->spacy>=2.0.18->fastai<2.0,>=1.0->autogluon.tabular[all]==0.1.0->autogluon==0.1.0) (5.2.1)\n",
      "Requirement already satisfied: urllib3<1.27,>=1.21.1 in /home/ec2-user/anaconda3/envs/mxnet_p36/lib/python3.6/site-packages (from requests->autogluon.core==0.1.0->autogluon==0.1.0) (1.26.6)\n",
      "Requirement already satisfied: charset-normalizer~=2.0.0 in /home/ec2-user/anaconda3/envs/mxnet_p36/lib/python3.6/site-packages (from requests->autogluon.core==0.1.0->autogluon==0.1.0) (2.0.6)\n",
      "Requirement already satisfied: idna<4,>=2.5 in /home/ec2-user/anaconda3/envs/mxnet_p36/lib/python3.6/site-packages (from requests->autogluon.core==0.1.0->autogluon==0.1.0) (3.1)\n",
      "Requirement already satisfied: certifi>=2017.4.17 in /home/ec2-user/anaconda3/envs/mxnet_p36/lib/python3.6/site-packages (from requests->autogluon.core==0.1.0->autogluon==0.1.0) (2021.5.30)\n",
      "Requirement already satisfied: immutables>=0.9 in /home/ec2-user/anaconda3/envs/mxnet_p36/lib/python3.6/site-packages (from contextvars->autogluon-contrib-nlp==0.0.1b20210201->autogluon.text==0.1.0->autogluon==0.1.0) (0.15)\n",
      "Requirement already satisfied: heapdict in /home/ec2-user/anaconda3/envs/mxnet_p36/lib/python3.6/site-packages (from zict>=0.1.3->distributed>=2.6.0->autogluon.core==0.1.0->autogluon==0.1.0) (1.0.1)\n",
      "Requirement already satisfied: soupsieve>1.2 in /home/ec2-user/anaconda3/envs/mxnet_p36/lib/python3.6/site-packages (from beautifulsoup4->fastai<2.0,>=1.0->autogluon.tabular[all]==0.1.0->autogluon==0.1.0) (2.0.1)\n",
      "Requirement already satisfied: MarkupSafe>=0.23 in /home/ec2-user/anaconda3/envs/mxnet_p36/lib/python3.6/site-packages (from jinja2->spacy>=2.0.18->fastai<2.0,>=1.0->autogluon.tabular[all]==0.1.0->autogluon==0.1.0) (1.1.1)\n",
      "Requirement already satisfied: s3transfer<0.6.0,>=0.5.0 in /home/ec2-user/anaconda3/envs/mxnet_p36/lib/python3.6/site-packages (from boto3->autogluon.core==0.1.0->autogluon==0.1.0) (0.5.0)\n",
      "Requirement already satisfied: botocore<1.22.0,>=1.21.45 in /home/ec2-user/anaconda3/envs/mxnet_p36/lib/python3.6/site-packages (from boto3->autogluon.core==0.1.0->autogluon==0.1.0) (1.21.45)\n",
      "Requirement already satisfied: jmespath<1.0.0,>=0.7.1 in /home/ec2-user/anaconda3/envs/mxnet_p36/lib/python3.6/site-packages (from boto3->autogluon.core==0.1.0->autogluon==0.1.0) (0.10.0)\n",
      "Requirement already satisfied: pyflakes<2.3.0,>=2.2.0 in /home/ec2-user/anaconda3/envs/mxnet_p36/lib/python3.6/site-packages (from flake8->autogluon-contrib-nlp==0.0.1b20210201->autogluon.text==0.1.0->autogluon==0.1.0) (2.2.0)\n",
      "Requirement already satisfied: pycodestyle<2.7.0,>=2.6.0a1 in /home/ec2-user/anaconda3/envs/mxnet_p36/lib/python3.6/site-packages (from flake8->autogluon-contrib-nlp==0.0.1b20210201->autogluon.text==0.1.0->autogluon==0.1.0) (2.6.0)\n",
      "Requirement already satisfied: importlib-metadata in /home/ec2-user/anaconda3/envs/mxnet_p36/lib/python3.6/site-packages (from flake8->autogluon-contrib-nlp==0.0.1b20210201->autogluon.text==0.1.0->autogluon==0.1.0) (3.7.0)\n",
      "Requirement already satisfied: mccabe<0.7.0,>=0.6.0 in /home/ec2-user/anaconda3/envs/mxnet_p36/lib/python3.6/site-packages (from flake8->autogluon-contrib-nlp==0.0.1b20210201->autogluon.text==0.1.0->autogluon==0.1.0) (0.6.1)\n",
      "Requirement already satisfied: python-slugify in /home/ec2-user/anaconda3/envs/mxnet_p36/lib/python3.6/site-packages (from kaggle->d8<1.0,>=0.0.2->autogluon.vision==0.1.0->autogluon==0.1.0) (5.0.2)\n",
      "Requirement already satisfied: cycler>=0.10 in /home/ec2-user/anaconda3/envs/mxnet_p36/lib/python3.6/site-packages (from matplotlib->autogluon.core==0.1.0->autogluon==0.1.0) (0.10.0)\n",
      "Requirement already satisfied: kiwisolver>=1.0.1 in /home/ec2-user/anaconda3/envs/mxnet_p36/lib/python3.6/site-packages (from matplotlib->autogluon.core==0.1.0->autogluon==0.1.0) (1.3.1)\n",
      "Requirement already satisfied: liac-arff>=2.4.0 in /home/ec2-user/anaconda3/envs/mxnet_p36/lib/python3.6/site-packages (from openml->autogluon.extra==0.1.0->autogluon==0.1.0) (2.5.0)\n",
      "Requirement already satisfied: xmltodict in /home/ec2-user/anaconda3/envs/mxnet_p36/lib/python3.6/site-packages (from openml->autogluon.extra==0.1.0->autogluon==0.1.0) (0.12.0)\n",
      "Requirement already satisfied: minio in /home/ec2-user/anaconda3/envs/mxnet_p36/lib/python3.6/site-packages (from openml->autogluon.extra==0.1.0->autogluon==0.1.0) (7.1.1)\n",
      "Requirement already satisfied: tenacity>=6.2.0 in /home/ec2-user/anaconda3/envs/mxnet_p36/lib/python3.6/site-packages (from plotly->catboost<0.25,>=0.23.0->autogluon.tabular[all]==0.1.0->autogluon==0.1.0) (8.0.1)\n",
      "Requirement already satisfied: attrs>=19.2.0 in /home/ec2-user/anaconda3/envs/mxnet_p36/lib/python3.6/site-packages (from pytest->autogluon.extra==0.1.0->autogluon==0.1.0) (20.3.0)\n",
      "Requirement already satisfied: iniconfig in /home/ec2-user/anaconda3/envs/mxnet_p36/lib/python3.6/site-packages (from pytest->autogluon.extra==0.1.0->autogluon==0.1.0) (1.1.1)\n",
      "Requirement already satisfied: pluggy<1.0.0a1,>=0.12 in /home/ec2-user/anaconda3/envs/mxnet_p36/lib/python3.6/site-packages (from pytest->autogluon.extra==0.1.0->autogluon==0.1.0) (0.13.1)\n",
      "Requirement already satisfied: py>=1.8.2 in /home/ec2-user/anaconda3/envs/mxnet_p36/lib/python3.6/site-packages (from pytest->autogluon.extra==0.1.0->autogluon==0.1.0) (1.10.0)\n",
      "Requirement already satisfied: toml in /home/ec2-user/anaconda3/envs/mxnet_p36/lib/python3.6/site-packages (from pytest->autogluon.extra==0.1.0->autogluon==0.1.0) (0.10.2)\n",
      "Requirement already satisfied: text-unidecode>=1.3 in /home/ec2-user/anaconda3/envs/mxnet_p36/lib/python3.6/site-packages (from python-slugify->kaggle->d8<1.0,>=0.0.2->autogluon.vision==0.1.0->autogluon==0.1.0) (1.3)\n",
      "Requirement already satisfied: tabulate>=0.8.9 in /home/ec2-user/anaconda3/envs/mxnet_p36/lib/python3.6/site-packages (from sacrebleu->autogluon-contrib-nlp==0.0.1b20210201->autogluon.text==0.1.0->autogluon==0.1.0) (0.8.9)\n",
      "Requirement already satisfied: colorama in /home/ec2-user/anaconda3/envs/mxnet_p36/lib/python3.6/site-packages (from sacrebleu->autogluon-contrib-nlp==0.0.1b20210201->autogluon.text==0.1.0->autogluon==0.1.0) (0.4.3)\n",
      "\u001b[33mWARNING: You are using pip version 21.2.4; however, version 21.3.1 is available.\n",
      "You should consider upgrading via the '/home/ec2-user/anaconda3/envs/mxnet_p36/bin/python -m pip install --upgrade pip' command.\u001b[0m\n"
     ]
    }
   ],
   "source": [
    "!pip install autogluon==0.1.0"
   ]
  },
  {
   "cell_type": "code",
   "execution_count": 5,
   "id": "608d4624",
   "metadata": {},
   "outputs": [],
   "source": [
    "from autogluon.tabular import TabularDataset, TabularPredictor"
   ]
  },
  {
   "cell_type": "markdown",
   "id": "619ee2c0",
   "metadata": {},
   "source": [
    "### Data Preparation"
   ]
  },
  {
   "cell_type": "code",
   "execution_count": 6,
   "id": "b5950248",
   "metadata": {},
   "outputs": [],
   "source": [
    "import pandas as pd"
   ]
  },
  {
   "cell_type": "code",
   "execution_count": 7,
   "id": "3ad4f83a",
   "metadata": {},
   "outputs": [
    {
     "name": "stdout",
     "output_type": "stream",
     "text": [
      "CPU times: user 266 ms, sys: 33.2 ms, total: 299 ms\n",
      "Wall time: 417 ms\n"
     ]
    }
   ],
   "source": [
    "%%time\n",
    "import sagemaker\n",
    "from sagemaker import get_execution_role\n",
    "\n",
    "\n",
    "role = get_execution_role()"
   ]
  },
  {
   "cell_type": "code",
   "execution_count": 8,
   "id": "9384d9af",
   "metadata": {},
   "outputs": [
    {
     "data": {
      "text/plain": [
       "'arn:aws:iam::806174985048:role/service-role/AmazonSageMaker-ExecutionRole-20201218T151409'"
      ]
     },
     "execution_count": 8,
     "metadata": {},
     "output_type": "execute_result"
    }
   ],
   "source": [
    "import boto3\n",
    "import os\n",
    "role"
   ]
  },
  {
   "cell_type": "code",
   "execution_count": 11,
   "id": "c13b5bf1",
   "metadata": {},
   "outputs": [
    {
     "name": "stdout",
     "output_type": "stream",
     "text": [
      "CPU times: user 1min 30s, sys: 17.3 s, total: 1min 48s\n",
      "Wall time: 2min 4s\n"
     ]
    },
    {
     "data": {
      "text/html": [
       "<div>\n",
       "<style scoped>\n",
       "    .dataframe tbody tr th:only-of-type {\n",
       "        vertical-align: middle;\n",
       "    }\n",
       "\n",
       "    .dataframe tbody tr th {\n",
       "        vertical-align: top;\n",
       "    }\n",
       "\n",
       "    .dataframe thead th {\n",
       "        text-align: right;\n",
       "    }\n",
       "</style>\n",
       "<table border=\"1\" class=\"dataframe\">\n",
       "  <thead>\n",
       "    <tr style=\"text-align: right;\">\n",
       "      <th></th>\n",
       "      <th>ip</th>\n",
       "      <th>app</th>\n",
       "      <th>device</th>\n",
       "      <th>os</th>\n",
       "      <th>channel</th>\n",
       "      <th>click_time</th>\n",
       "      <th>attributed_time</th>\n",
       "      <th>is_attributed</th>\n",
       "    </tr>\n",
       "  </thead>\n",
       "  <tbody>\n",
       "    <tr>\n",
       "      <th>0</th>\n",
       "      <td>83230</td>\n",
       "      <td>3</td>\n",
       "      <td>1</td>\n",
       "      <td>13</td>\n",
       "      <td>379</td>\n",
       "      <td>2017-11-06 14:32:21</td>\n",
       "      <td>NaN</td>\n",
       "      <td>0</td>\n",
       "    </tr>\n",
       "    <tr>\n",
       "      <th>1</th>\n",
       "      <td>17357</td>\n",
       "      <td>3</td>\n",
       "      <td>1</td>\n",
       "      <td>19</td>\n",
       "      <td>379</td>\n",
       "      <td>2017-11-06 14:33:34</td>\n",
       "      <td>NaN</td>\n",
       "      <td>0</td>\n",
       "    </tr>\n",
       "    <tr>\n",
       "      <th>2</th>\n",
       "      <td>35810</td>\n",
       "      <td>3</td>\n",
       "      <td>1</td>\n",
       "      <td>13</td>\n",
       "      <td>379</td>\n",
       "      <td>2017-11-06 14:34:12</td>\n",
       "      <td>NaN</td>\n",
       "      <td>0</td>\n",
       "    </tr>\n",
       "    <tr>\n",
       "      <th>3</th>\n",
       "      <td>45745</td>\n",
       "      <td>14</td>\n",
       "      <td>1</td>\n",
       "      <td>13</td>\n",
       "      <td>478</td>\n",
       "      <td>2017-11-06 14:34:52</td>\n",
       "      <td>NaN</td>\n",
       "      <td>0</td>\n",
       "    </tr>\n",
       "    <tr>\n",
       "      <th>4</th>\n",
       "      <td>161007</td>\n",
       "      <td>3</td>\n",
       "      <td>1</td>\n",
       "      <td>13</td>\n",
       "      <td>379</td>\n",
       "      <td>2017-11-06 14:35:08</td>\n",
       "      <td>NaN</td>\n",
       "      <td>0</td>\n",
       "    </tr>\n",
       "    <tr>\n",
       "      <th>...</th>\n",
       "      <td>...</td>\n",
       "      <td>...</td>\n",
       "      <td>...</td>\n",
       "      <td>...</td>\n",
       "      <td>...</td>\n",
       "      <td>...</td>\n",
       "      <td>...</td>\n",
       "      <td>...</td>\n",
       "    </tr>\n",
       "    <tr>\n",
       "      <th>184903885</th>\n",
       "      <td>121312</td>\n",
       "      <td>12</td>\n",
       "      <td>1</td>\n",
       "      <td>10</td>\n",
       "      <td>340</td>\n",
       "      <td>2017-11-09 16:00:00</td>\n",
       "      <td>NaN</td>\n",
       "      <td>0</td>\n",
       "    </tr>\n",
       "    <tr>\n",
       "      <th>184903886</th>\n",
       "      <td>46894</td>\n",
       "      <td>3</td>\n",
       "      <td>1</td>\n",
       "      <td>19</td>\n",
       "      <td>211</td>\n",
       "      <td>2017-11-09 16:00:00</td>\n",
       "      <td>NaN</td>\n",
       "      <td>0</td>\n",
       "    </tr>\n",
       "    <tr>\n",
       "      <th>184903887</th>\n",
       "      <td>320126</td>\n",
       "      <td>1</td>\n",
       "      <td>1</td>\n",
       "      <td>13</td>\n",
       "      <td>274</td>\n",
       "      <td>2017-11-09 16:00:00</td>\n",
       "      <td>NaN</td>\n",
       "      <td>0</td>\n",
       "    </tr>\n",
       "    <tr>\n",
       "      <th>184903888</th>\n",
       "      <td>189286</td>\n",
       "      <td>12</td>\n",
       "      <td>1</td>\n",
       "      <td>37</td>\n",
       "      <td>259</td>\n",
       "      <td>2017-11-09 16:00:00</td>\n",
       "      <td>NaN</td>\n",
       "      <td>0</td>\n",
       "    </tr>\n",
       "    <tr>\n",
       "      <th>184903889</th>\n",
       "      <td>106485</td>\n",
       "      <td>11</td>\n",
       "      <td>1</td>\n",
       "      <td>19</td>\n",
       "      <td>137</td>\n",
       "      <td>2017-11-09 16:00:00</td>\n",
       "      <td>NaN</td>\n",
       "      <td>0</td>\n",
       "    </tr>\n",
       "  </tbody>\n",
       "</table>\n",
       "<p>184903890 rows × 8 columns</p>\n",
       "</div>"
      ],
      "text/plain": [
       "               ip  app  device  os  channel          click_time  \\\n",
       "0           83230    3       1  13      379 2017-11-06 14:32:21   \n",
       "1           17357    3       1  19      379 2017-11-06 14:33:34   \n",
       "2           35810    3       1  13      379 2017-11-06 14:34:12   \n",
       "3           45745   14       1  13      478 2017-11-06 14:34:52   \n",
       "4          161007    3       1  13      379 2017-11-06 14:35:08   \n",
       "...           ...  ...     ...  ..      ...                 ...   \n",
       "184903885  121312   12       1  10      340 2017-11-09 16:00:00   \n",
       "184903886   46894    3       1  19      211 2017-11-09 16:00:00   \n",
       "184903887  320126    1       1  13      274 2017-11-09 16:00:00   \n",
       "184903888  189286   12       1  37      259 2017-11-09 16:00:00   \n",
       "184903889  106485   11       1  19      137 2017-11-09 16:00:00   \n",
       "\n",
       "          attributed_time  is_attributed  \n",
       "0                     NaN              0  \n",
       "1                     NaN              0  \n",
       "2                     NaN              0  \n",
       "3                     NaN              0  \n",
       "4                     NaN              0  \n",
       "...                   ...            ...  \n",
       "184903885             NaN              0  \n",
       "184903886             NaN              0  \n",
       "184903887             NaN              0  \n",
       "184903888             NaN              0  \n",
       "184903889             NaN              0  \n",
       "\n",
       "[184903890 rows x 8 columns]"
      ]
     },
     "execution_count": 11,
     "metadata": {},
     "output_type": "execute_result"
    }
   ],
   "source": [
    "%%time\n",
    "file = 'train.csv'\n",
    "data_folder = '../../../../data/AdTalking'\n",
    "\n",
    "file_path = os.path.join(data_folder, file)\n",
    "\n",
    "raw_df = pd.read_csv(file_path, parse_dates=['click_time'])\n",
    "raw_df"
   ]
  },
  {
   "cell_type": "markdown",
   "id": "cd3b3e41",
   "metadata": {},
   "source": [
    "#### 데이터의 사이즈를 고려하여 샘플링을 하도록 합니다"
   ]
  },
  {
   "cell_type": "code",
   "execution_count": 12,
   "id": "b5fe3c5f",
   "metadata": {},
   "outputs": [],
   "source": [
    "sampling_rate = 0.01\n",
    "df = raw_df.sample(frac=sampling_rate, random_state=100)"
   ]
  },
  {
   "cell_type": "code",
   "execution_count": 14,
   "id": "7246497b",
   "metadata": {},
   "outputs": [],
   "source": [
    "df.to_csv('sampled_data.csv')"
   ]
  },
  {
   "cell_type": "code",
   "execution_count": 15,
   "id": "77545f5a",
   "metadata": {},
   "outputs": [],
   "source": [
    "def drop_column(raw_df, col):\n",
    "    df = raw_df.drop(columns=[col])\n",
    "    return df\n",
    "\n",
    "df = drop_column(df, col='attributed_time')"
   ]
  },
  {
   "cell_type": "code",
   "execution_count": 16,
   "id": "e82d2dc4",
   "metadata": {},
   "outputs": [
    {
     "name": "stdout",
     "output_type": "stream",
     "text": [
      "min time:  2017-11-06 15:46:38\n",
      "max time:  2017-11-09 16:00:00\n"
     ]
    }
   ],
   "source": [
    "print(\"min time: \", df.click_time.min())\n",
    "print(\"max time: \", df.click_time.max())"
   ]
  },
  {
   "cell_type": "code",
   "execution_count": 17,
   "id": "183c8d58",
   "metadata": {},
   "outputs": [
    {
     "name": "stdout",
     "output_type": "stream",
     "text": [
      "train sample shape:  (180000, 7)\n",
      "train min time:  2017-11-06 15:50:26\n",
      "train max time:  2017-11-08 23:58:59\n",
      "Train fraud ratio:  0.00233\n",
      "# of Train frauds:  419\n",
      "\n",
      "test sample shape:  (20000, 7)\n",
      "test min time:  2017-11-09 00:00:07\n",
      "test max time:  2017-11-09 16:00:00\n",
      "Test fraud ratio:  0.00245\n",
      "# of test frauds:  49\n"
     ]
    }
   ],
   "source": [
    "def split_data_by_time(df, target_col, label_col, total_samples, split_rate, train_end, test_start, verbose=False):\n",
    "    '''\n",
    "    시간 관점으로 번반부튼 훈련, 후반부는 테스트 데이터로 해서 샘블링 함.\n",
    "    '''\n",
    "    \n",
    "    # 훈련 데이터 셋\n",
    "    train_df = df[df[target_col] <= train_end]   \n",
    "    train_num = int(total_samples * (1 - split_rate))    # 훈련 샘플 데이터 수\n",
    "    train_sample = train_df.sample(n = train_num, random_state=100)    # 샘플링    \n",
    "\n",
    "    print(\"train sample shape: \", train_sample.shape)\n",
    "    print(\"train min time: \", train_sample[target_col].min())\n",
    "    print(\"train max time: \", train_sample[target_col].max())\n",
    "    print(\"Train fraud ratio: \", round(train_sample[label_col].value_counts()[1] / train_sample.shape[0],5))\n",
    "    print(\"# of Train frauds: \", train_sample[label_col].value_counts()[1])     \n",
    "\n",
    "\n",
    "    # 테스트 데이터 셋    \n",
    "    test_df = df[df[target_col] >= test_start]    \n",
    "    test_num = int(total_samples * (split_rate))    # 테스트 샘플 데이터 수\n",
    "    test_sample = test_df.sample(n = test_num, random_state=100)    \n",
    "    \n",
    "\n",
    "    print(\"\\ntest sample shape: \", test_sample.shape)    \n",
    "    print(\"test min time: \", test_sample[target_col].min())\n",
    "    print(\"test max time: \", test_sample[target_col].max())\n",
    "    print(\"Test fraud ratio: \", round(test_sample[label_col].value_counts()[1] / test_sample.shape[0],5))    \n",
    "    print(\"# of test frauds: \", test_sample[label_col].value_counts()[1])         \n",
    "    \n",
    "    \n",
    "    return train_sample, test_sample\n",
    "    \n",
    "train_df, test_df = split_data_by_time(\n",
    "                       df=df, \n",
    "                       target_col='click_time', \n",
    "                       label_col = 'is_attributed',\n",
    "                       total_samples=200000, \n",
    "                       split_rate=0.1, \n",
    "                       train_end='2017-11-08 23:59', \n",
    "                       test_start='2017-11-09 00:00',    \n",
    "                       verbose = True,\n",
    "                  )    "
   ]
  },
  {
   "cell_type": "code",
   "execution_count": 18,
   "id": "ef6a90b3",
   "metadata": {},
   "outputs": [],
   "source": [
    "train_df = drop_column(train_df, col='click_time')"
   ]
  },
  {
   "cell_type": "code",
   "execution_count": 19,
   "id": "ff1ce2f6",
   "metadata": {},
   "outputs": [],
   "source": [
    "test_df = drop_column(test_df, col='click_time')"
   ]
  },
  {
   "cell_type": "code",
   "execution_count": 56,
   "id": "2b31dc64",
   "metadata": {},
   "outputs": [],
   "source": [
    "train_df.to_csv(\"data/train.csv\")"
   ]
  },
  {
   "cell_type": "code",
   "execution_count": 57,
   "id": "4af02729",
   "metadata": {},
   "outputs": [],
   "source": [
    "test_df.to_csv(\"data/test.csv\")"
   ]
  },
  {
   "cell_type": "code",
   "execution_count": 21,
   "id": "1b502ee8",
   "metadata": {},
   "outputs": [],
   "source": [
    "label = 'is_attributed'"
   ]
  },
  {
   "cell_type": "code",
   "execution_count": 22,
   "id": "01193170",
   "metadata": {},
   "outputs": [
    {
     "name": "stdout",
     "output_type": "stream",
     "text": [
      "Summary of class variable: \n",
      " count    180000.000000\n",
      "mean          0.002328\n",
      "std           0.048191\n",
      "min           0.000000\n",
      "25%           0.000000\n",
      "50%           0.000000\n",
      "75%           0.000000\n",
      "max           1.000000\n",
      "Name: is_attributed, dtype: float64\n"
     ]
    }
   ],
   "source": [
    "print(\"Summary of class variable: \\n\", train_df[label].describe())"
   ]
  },
  {
   "cell_type": "markdown",
   "id": "feaf88bb",
   "metadata": {},
   "source": [
    "#### Test dataset - Split between X & Y"
   ]
  },
  {
   "cell_type": "code",
   "execution_count": 23,
   "id": "b918cffb",
   "metadata": {},
   "outputs": [],
   "source": [
    "y_test = test_df[label]  # values to predict\n",
    "test_data_nolab = test_df.drop(columns=[label])  # delete label column to prove we're not cheating"
   ]
  },
  {
   "cell_type": "markdown",
   "id": "84ea3c4d",
   "metadata": {},
   "source": [
    "### Training"
   ]
  },
  {
   "cell_type": "markdown",
   "id": "76c28de6",
   "metadata": {},
   "source": [
    "단 한 줄의 코드로 쉽게 AutoML을 수행할 수 있습니다. 문제 유형을 지정하지 않아도 자동으로 문제 유형을 파악하며, 별도의 피쳐 인코딩/변환을 수행하지 않아도 되며 결측치 또한 자동으로 처리할 수 있습니다. 이 때, 별도의 검증 데이터셋을 지정하지 않으면, AutoGluon은 데이터의 자동으로 훈련 데이터/검증 데이터를 분리합니다.\n",
    "\n",
    "AutoGluon은 검증 데이터에서 최고의 성능을 내기 위한 다양한 조합을 반복적으로 수행하며, fit()에서 다양한 인수를 지정하여 자유롭게 AutoML을 수행할 수 있습니다."
   ]
  },
  {
   "cell_type": "markdown",
   "id": "57551bb5",
   "metadata": {},
   "source": [
    "##### Tip\n",
    "GPU가 있다면, AutoGluon 0.1부터 LightGBM, CatBoost, XGBoost, NN, FastAI NN 모델 훈련 시 GPU로 훈련이 가능합니다."
   ]
  },
  {
   "cell_type": "code",
   "execution_count": 24,
   "id": "b82397f6",
   "metadata": {
    "scrolled": true
   },
   "outputs": [
    {
     "name": "stderr",
     "output_type": "stream",
     "text": [
      "No path specified. Models will be saved in: \"AutogluonModels/ag-20211201_001849/\"\n",
      "Beginning AutoGluon training ...\n",
      "AutoGluon will save models to \"AutogluonModels/ag-20211201_001849/\"\n",
      "AutoGluon Version:  0.1.0\n",
      "Train Data Rows:    180000\n",
      "Train Data Columns: 5\n",
      "Preprocessing data ...\n",
      "AutoGluon infers your prediction problem is: 'binary' (because only two unique label-values observed).\n",
      "\t2 unique label values:  [0, 1]\n",
      "\tIf 'binary' is not the correct problem_type, please manually specify the problem_type argument in fit() (You may specify problem_type as one of: ['binary', 'multiclass', 'regression'])\n",
      "Note: detected 72 virtual cores but NumExpr set to maximum of 64, check \"NUMEXPR_MAX_THREADS\" environment variable.\n",
      "Note: NumExpr detected 72 cores but \"NUMEXPR_MAX_THREADS\" not set, so enforcing safe limit of 8.\n",
      "Selected class <--> label mapping:  class 1 = 1, class 0 = 0\n",
      "Using Feature Generators to preprocess the data ...\n",
      "Fitting AutoMLPipelineFeatureGenerator...\n",
      "\tAvailable Memory:                    55953.67 MB\n",
      "\tTrain Data (Original)  Memory Usage: 7.2 MB (0.0% of available memory)\n",
      "\tInferring data type of each feature based on column values. Set feature_metadata_in to manually specify special dtypes of the features.\n",
      "\tStage 1 Generators:\n",
      "\t\tFitting AsTypeFeatureGenerator...\n",
      "\tStage 2 Generators:\n",
      "\t\tFitting FillNaFeatureGenerator...\n",
      "\tStage 3 Generators:\n",
      "\t\tFitting IdentityFeatureGenerator...\n",
      "\tStage 4 Generators:\n",
      "\t\tFitting DropUniqueFeatureGenerator...\n",
      "\tTypes of features in original data (raw dtype, special dtypes):\n",
      "\t\t('int', []) : 5 | ['ip', 'app', 'device', 'os', 'channel']\n",
      "\tTypes of features in processed data (raw dtype, special dtypes):\n",
      "\t\t('int', []) : 5 | ['ip', 'app', 'device', 'os', 'channel']\n",
      "\t0.2s = Fit runtime\n",
      "\t5 features in original data used to generate 5 features in processed data.\n",
      "\tTrain Data (Processed) Memory Usage: 7.2 MB (0.0% of available memory)\n",
      "Data preprocessing and feature engineering runtime = 0.23s ...\n",
      "AutoGluon will gauge predictive performance using evaluation metric: 'accuracy'\n",
      "\tTo change this, specify the eval_metric argument of fit()\n",
      "Automatically generating train/validation split with holdout_frac=0.013888888888888888, Train Rows: 177500, Val Rows: 2500\n",
      "Fitting model: RandomForestGini ...\n",
      "\t0.998\t = Validation accuracy score\n",
      "\t2.4s\t = Training runtime\n",
      "\t0.22s\t = Validation runtime\n",
      "Fitting model: RandomForestEntr ...\n",
      "\t0.9984\t = Validation accuracy score\n",
      "\t2.24s\t = Training runtime\n",
      "\t0.22s\t = Validation runtime\n",
      "Fitting model: ExtraTreesGini ...\n",
      "\t0.998\t = Validation accuracy score\n",
      "\t1.36s\t = Training runtime\n",
      "\t0.23s\t = Validation runtime\n",
      "Fitting model: ExtraTreesEntr ...\n",
      "\t0.998\t = Validation accuracy score\n",
      "\t1.67s\t = Training runtime\n",
      "\t0.22s\t = Validation runtime\n",
      "Fitting model: KNeighborsUnif ...\n",
      "\t0.9976\t = Validation accuracy score\n",
      "\t0.59s\t = Training runtime\n",
      "\t0.13s\t = Validation runtime\n",
      "Fitting model: KNeighborsDist ...\n",
      "\t0.9976\t = Validation accuracy score\n",
      "\t0.57s\t = Training runtime\n",
      "\t0.13s\t = Validation runtime\n",
      "Fitting model: LightGBM ...\n",
      "/home/ec2-user/anaconda3/envs/mxnet_p36/lib/python3.6/site-packages/lightgbm/engine.py:239: UserWarning: 'verbose_eval' argument is deprecated and will be removed in a future release of LightGBM. Pass 'log_evaluation()' callback via 'callbacks' argument instead.\n",
      "  _log_warning(\"'verbose_eval' argument is deprecated and will be removed in a future release of LightGBM. \"\n",
      "\t0.998\t = Validation accuracy score\n",
      "\t0.63s\t = Training runtime\n",
      "\t0.01s\t = Validation runtime\n",
      "Fitting model: LightGBMXT ...\n",
      "/home/ec2-user/anaconda3/envs/mxnet_p36/lib/python3.6/site-packages/lightgbm/engine.py:239: UserWarning: 'verbose_eval' argument is deprecated and will be removed in a future release of LightGBM. Pass 'log_evaluation()' callback via 'callbacks' argument instead.\n",
      "  _log_warning(\"'verbose_eval' argument is deprecated and will be removed in a future release of LightGBM. \"\n",
      "\t0.9976\t = Validation accuracy score\n",
      "\t0.18s\t = Training runtime\n",
      "\t0.01s\t = Validation runtime\n",
      "Fitting model: CatBoost ...\n",
      "\t0.9976\t = Validation accuracy score\n",
      "\t1.04s\t = Training runtime\n",
      "\t0.01s\t = Validation runtime\n",
      "Fitting model: XGBoost ...\n",
      "\t0.9984\t = Validation accuracy score\n",
      "\t5.65s\t = Training runtime\n",
      "\t0.01s\t = Validation runtime\n",
      "Fitting model: NeuralNetMXNet ...\n",
      "\tWarning: Exception caused NeuralNetMXNet to fail during training... Skipping this model.\n",
      "\t\t\n",
      "Detailed Traceback:\n",
      "Traceback (most recent call last):\n",
      "  File \"/home/ec2-user/anaconda3/envs/mxnet_p36/lib/python3.6/site-packages/autogluon/tabular/trainer/abstract_trainer.py\", line 911, in _train_and_save\n",
      "    model = self._train_single(X, y, model, X_val, y_val, **model_fit_kwargs)\n",
      "  File \"/home/ec2-user/anaconda3/envs/mxnet_p36/lib/python3.6/site-packages/autogluon/tabular/trainer/abstract_trainer.py\", line 883, in _train_single\n",
      "    model.fit(X=X, y=y, X_val=X_val, y_val=y_val, **model_fit_kwargs)\n",
      "  File \"/home/ec2-user/anaconda3/envs/mxnet_p36/lib/python3.6/site-packages/autogluon/core/models/abstract/abstract_model.py\", line 405, in fit\n",
      "    self._fit(**kwargs)\n",
      "  File \"/home/ec2-user/anaconda3/envs/mxnet_p36/lib/python3.6/site-packages/autogluon/tabular/models/tabular_nn/tabular_nn_model.py\", line 214, in _fit\n",
      "    self.train_net(train_dataset=train_dataset, params=params, val_dataset=val_dataset, initialize=True, setup_trainer=True, time_limit=time_limit, reporter=reporter)\n",
      "  File \"/home/ec2-user/anaconda3/envs/mxnet_p36/lib/python3.6/site-packages/autogluon/tabular/models/tabular_nn/tabular_nn_model.py\", line 342, in train_net\n",
      "    for batch_idx, data_batch in enumerate(train_dataset.dataloader):\n",
      "  File \"/home/ec2-user/anaconda3/envs/mxnet_p36/lib/python3.6/site-packages/mxnet/gluon/data/dataloader.py\", line 505, in __next__\n",
      "    batch = pickle.loads(ret.get(self._timeout))\n",
      "  File \"/home/ec2-user/anaconda3/envs/mxnet_p36/lib/python3.6/multiprocessing/pool.py\", line 640, in get\n",
      "    raise TimeoutError\n",
      "multiprocessing.context.TimeoutError\n"
     ]
    },
    {
     "name": "stdout",
     "output_type": "stream",
     "text": [
      "Worker timed out after 120 seconds. This might be caused by \n",
      "\n",
      "            - Slow transform. Please increase timeout to allow slower data loading in each worker.\n",
      "            - Insufficient shared_memory if `timeout` is large enough.\n",
      "            Please consider reduce `num_workers` or increase shared_memory in system.\n",
      "            \n"
     ]
    },
    {
     "name": "stderr",
     "output_type": "stream",
     "text": [
      "Fitting model: NeuralNetFastAI ...\n"
     ]
    },
    {
     "name": "stdout",
     "output_type": "stream",
     "text": [
      "Epoch 22: early stopping\n",
      "█\r"
     ]
    },
    {
     "name": "stderr",
     "output_type": "stream",
     "text": [
      "\t0.9976\t = Validation accuracy score\n",
      "\t509.73s\t = Training runtime\n",
      "\t9.41s\t = Validation runtime\n",
      "Fitting model: LightGBMLarge ...\n",
      "/home/ec2-user/anaconda3/envs/mxnet_p36/lib/python3.6/site-packages/lightgbm/engine.py:239: UserWarning: 'verbose_eval' argument is deprecated and will be removed in a future release of LightGBM. Pass 'log_evaluation()' callback via 'callbacks' argument instead.\n",
      "  _log_warning(\"'verbose_eval' argument is deprecated and will be removed in a future release of LightGBM. \"\n",
      "\t0.9984\t = Validation accuracy score\n",
      "\t0.35s\t = Training runtime\n",
      "\t0.01s\t = Validation runtime\n"
     ]
    },
    {
     "name": "stdout",
     "output_type": "stream",
     "text": [
      "█\r"
     ]
    },
    {
     "name": "stderr",
     "output_type": "stream",
     "text": [
      "Fitting model: WeightedEnsemble_L2 ...\n",
      "\t0.9988\t = Validation accuracy score\n",
      "\t1.05s\t = Training runtime\n",
      "\t0.01s\t = Validation runtime\n",
      "AutoGluon training complete, total runtime = 674.66s ...\n",
      "TabularPredictor saved. To load, use: predictor = TabularPredictor.load(\"AutogluonModels/ag-20211201_001849/\")\n"
     ]
    }
   ],
   "source": [
    "%%time\n",
    "predictor = TabularPredictor(label=label).fit(train_df)"
   ]
  },
  {
   "cell_type": "code",
   "execution_count": 25,
   "id": "7e53024a",
   "metadata": {},
   "outputs": [
    {
     "data": {
      "text/html": [
       "<div>\n",
       "<style scoped>\n",
       "    .dataframe tbody tr th:only-of-type {\n",
       "        vertical-align: middle;\n",
       "    }\n",
       "\n",
       "    .dataframe tbody tr th {\n",
       "        vertical-align: top;\n",
       "    }\n",
       "\n",
       "    .dataframe thead th {\n",
       "        text-align: right;\n",
       "    }\n",
       "</style>\n",
       "<table border=\"1\" class=\"dataframe\">\n",
       "  <thead>\n",
       "    <tr style=\"text-align: right;\">\n",
       "      <th></th>\n",
       "      <th>ip</th>\n",
       "      <th>app</th>\n",
       "      <th>device</th>\n",
       "      <th>os</th>\n",
       "      <th>channel</th>\n",
       "    </tr>\n",
       "  </thead>\n",
       "  <tbody>\n",
       "    <tr>\n",
       "      <th>135866194</th>\n",
       "      <td>5336</td>\n",
       "      <td>9</td>\n",
       "      <td>1</td>\n",
       "      <td>17</td>\n",
       "      <td>134</td>\n",
       "    </tr>\n",
       "    <tr>\n",
       "      <th>164588981</th>\n",
       "      <td>41151</td>\n",
       "      <td>11</td>\n",
       "      <td>1</td>\n",
       "      <td>17</td>\n",
       "      <td>137</td>\n",
       "    </tr>\n",
       "    <tr>\n",
       "      <th>156791018</th>\n",
       "      <td>86638</td>\n",
       "      <td>9</td>\n",
       "      <td>1</td>\n",
       "      <td>19</td>\n",
       "      <td>107</td>\n",
       "    </tr>\n",
       "    <tr>\n",
       "      <th>144621959</th>\n",
       "      <td>12898</td>\n",
       "      <td>1</td>\n",
       "      <td>1</td>\n",
       "      <td>49</td>\n",
       "      <td>17</td>\n",
       "    </tr>\n",
       "    <tr>\n",
       "      <th>168912736</th>\n",
       "      <td>78574</td>\n",
       "      <td>18</td>\n",
       "      <td>1</td>\n",
       "      <td>13</td>\n",
       "      <td>107</td>\n",
       "    </tr>\n",
       "    <tr>\n",
       "      <th>...</th>\n",
       "      <td>...</td>\n",
       "      <td>...</td>\n",
       "      <td>...</td>\n",
       "      <td>...</td>\n",
       "      <td>...</td>\n",
       "    </tr>\n",
       "    <tr>\n",
       "      <th>168440752</th>\n",
       "      <td>53454</td>\n",
       "      <td>14</td>\n",
       "      <td>1</td>\n",
       "      <td>18</td>\n",
       "      <td>480</td>\n",
       "    </tr>\n",
       "    <tr>\n",
       "      <th>145697582</th>\n",
       "      <td>113827</td>\n",
       "      <td>9</td>\n",
       "      <td>1</td>\n",
       "      <td>22</td>\n",
       "      <td>442</td>\n",
       "    </tr>\n",
       "    <tr>\n",
       "      <th>147685230</th>\n",
       "      <td>320212</td>\n",
       "      <td>12</td>\n",
       "      <td>1</td>\n",
       "      <td>19</td>\n",
       "      <td>145</td>\n",
       "    </tr>\n",
       "    <tr>\n",
       "      <th>151870864</th>\n",
       "      <td>144897</td>\n",
       "      <td>12</td>\n",
       "      <td>1</td>\n",
       "      <td>15</td>\n",
       "      <td>259</td>\n",
       "    </tr>\n",
       "    <tr>\n",
       "      <th>165184594</th>\n",
       "      <td>104863</td>\n",
       "      <td>9</td>\n",
       "      <td>1</td>\n",
       "      <td>18</td>\n",
       "      <td>244</td>\n",
       "    </tr>\n",
       "  </tbody>\n",
       "</table>\n",
       "<p>20000 rows × 5 columns</p>\n",
       "</div>"
      ],
      "text/plain": [
       "               ip  app  device  os  channel\n",
       "135866194    5336    9       1  17      134\n",
       "164588981   41151   11       1  17      137\n",
       "156791018   86638    9       1  19      107\n",
       "144621959   12898    1       1  49       17\n",
       "168912736   78574   18       1  13      107\n",
       "...           ...  ...     ...  ..      ...\n",
       "168440752   53454   14       1  18      480\n",
       "145697582  113827    9       1  22      442\n",
       "147685230  320212   12       1  19      145\n",
       "151870864  144897   12       1  15      259\n",
       "165184594  104863    9       1  18      244\n",
       "\n",
       "[20000 rows x 5 columns]"
      ]
     },
     "execution_count": 25,
     "metadata": {},
     "output_type": "execute_result"
    }
   ],
   "source": [
    "test_data_nolab"
   ]
  },
  {
   "cell_type": "markdown",
   "id": "7bff950b",
   "metadata": {},
   "source": [
    "### Evaluation"
   ]
  },
  {
   "cell_type": "code",
   "execution_count": 26,
   "id": "f0bf2bb9",
   "metadata": {},
   "outputs": [
    {
     "name": "stdout",
     "output_type": "stream",
     "text": [
      "AutoGluon infers problem type is:  binary\n",
      "AutoGluon identified the following types of features:\n",
      "('int', []) : 5 | ['ip', 'app', 'device', 'os', 'channel']\n"
     ]
    }
   ],
   "source": [
    "print(\"AutoGluon infers problem type is: \", predictor.problem_type)\n",
    "print(\"AutoGluon identified the following types of features:\")\n",
    "print(predictor.feature_metadata)"
   ]
  },
  {
   "cell_type": "code",
   "execution_count": 27,
   "id": "dd44af41",
   "metadata": {},
   "outputs": [
    {
     "data": {
      "text/plain": [
       "135866194    0\n",
       "164588981    0\n",
       "156791018    0\n",
       "144621959    0\n",
       "168912736    0\n",
       "Name: is_attributed, dtype: int64"
      ]
     },
     "execution_count": 27,
     "metadata": {},
     "output_type": "execute_result"
    }
   ],
   "source": [
    "y_pred = predictor.predict(test_data_nolab)\n",
    "y_pred.head()"
   ]
  },
  {
   "cell_type": "code",
   "execution_count": 28,
   "id": "433a21f5",
   "metadata": {},
   "outputs": [
    {
     "name": "stderr",
     "output_type": "stream",
     "text": [
      "Evaluation: accuracy on test data: 0.99745\n",
      "Evaluations on test data:\n",
      "{\n",
      "    \"accuracy\": 0.99745,\n",
      "    \"accuracy_score\": 0.99745,\n",
      "    \"balanced_accuracy_score\": 0.632277140218024,\n",
      "    \"matthews_corrcoef\": 0.3497883756550038,\n",
      "    \"f1_score\": 0.99745\n",
      "}\n",
      "Detailed (per-class) classification report:\n",
      "{\n",
      "    \"0\": {\n",
      "        \"precision\": 0.9981974764670539,\n",
      "        \"recall\": 0.9992481579870683,\n",
      "        \"f1-score\": 0.9987225408912156,\n",
      "        \"support\": 19951\n",
      "    },\n",
      "    \"1\": {\n",
      "        \"precision\": 0.4642857142857143,\n",
      "        \"recall\": 0.2653061224489796,\n",
      "        \"f1-score\": 0.3376623376623377,\n",
      "        \"support\": 49\n",
      "    },\n",
      "    \"accuracy\": 0.99745,\n",
      "    \"macro avg\": {\n",
      "        \"precision\": 0.7312415953763841,\n",
      "        \"recall\": 0.632277140218024,\n",
      "        \"f1-score\": 0.6681924392767766,\n",
      "        \"support\": 20000\n",
      "    },\n",
      "    \"weighted avg\": {\n",
      "        \"precision\": 0.9968893926497095,\n",
      "        \"recall\": 0.99745,\n",
      "        \"f1-score\": 0.9971029433933049,\n",
      "        \"support\": 20000\n",
      "    }\n",
      "}\n"
     ]
    }
   ],
   "source": [
    "perf = predictor.evaluate_predictions(y_true=y_test, y_pred=y_pred, auxiliary_metrics=True)"
   ]
  },
  {
   "cell_type": "markdown",
   "id": "b2090032",
   "metadata": {},
   "source": [
    "#### ROC, Precision, Confusion matrix"
   ]
  },
  {
   "cell_type": "code",
   "execution_count": 29,
   "id": "63568418",
   "metadata": {},
   "outputs": [
    {
     "name": "stdout",
     "output_type": "stream",
     "text": [
      "confusion matrix (cutoff=0.5)\n",
      "              precision    recall  f1-score   support\n",
      "\n",
      "           0       1.00      1.00      1.00     19951\n",
      "           1       0.46      0.27      0.34        49\n",
      "\n",
      "    accuracy                           1.00     20000\n",
      "   macro avg       0.73      0.63      0.67     20000\n",
      "weighted avg       1.00      1.00      1.00     20000\n",
      "\n"
     ]
    },
    {
     "data": {
      "image/png": "[encoded data removed]",
      "text/plain": [
       "<Figure size 1008x288 with 4 Axes>"
      ]
     },
     "metadata": {
      "needs_background": "light"
     },
     "output_type": "display_data"
    }
   ],
   "source": [
    "from src.utils import plot_all\n",
    "y_prob = predictor.predict_proba(test_data_nolab)\n",
    "y_prob_ = y_prob.iloc[:,-1]\n",
    "plot_all(y_test, y_prob_)"
   ]
  },
  {
   "cell_type": "code",
   "execution_count": 30,
   "id": "fabd7731",
   "metadata": {},
   "outputs": [
    {
     "name": "stdout",
     "output_type": "stream",
     "text": [
      "*** Summary of fit() ***\n",
      "Estimated performance of each model:\n",
      "                  model  score_val  pred_time_val    fit_time  pred_time_val_marginal  fit_time_marginal  stack_level  can_infer  fit_order\n",
      "0   WeightedEnsemble_L2     0.9988       0.247486    4.676809                0.005638           1.047958            2       True         13\n",
      "1         LightGBMLarge     0.9984       0.005898    0.349896                0.005898           0.349896            1       True         12\n",
      "2               XGBoost     0.9984       0.014941    5.651801                0.014941           5.651801            1       True         10\n",
      "3      RandomForestEntr     0.9984       0.224052    2.238972                0.224052           2.238972            1       True          2\n",
      "4              LightGBM     0.9980       0.006629    0.632614                0.006629           0.632614            1       True          7\n",
      "5        ExtraTreesEntr     0.9980       0.223184    1.670884                0.223184           1.670884            1       True          4\n",
      "6      RandomForestGini     0.9980       0.224606    2.402699                0.224606           2.402699            1       True          1\n",
      "7        ExtraTreesGini     0.9980       0.225219    1.362916                0.225219           1.362916            1       True          3\n",
      "8            LightGBMXT     0.9976       0.005941    0.175538                0.005941           0.175538            1       True          8\n",
      "9              CatBoost     0.9976       0.011898    1.039983                0.011898           1.039983            1       True          9\n",
      "10       KNeighborsUnif     0.9976       0.126200    0.588962                0.126200           0.588962            1       True          5\n",
      "11       KNeighborsDist     0.9976       0.126831    0.570664                0.126831           0.570664            1       True          6\n",
      "12      NeuralNetFastAI     0.9976       9.405208  509.729140                9.405208         509.729140            1       True         11\n",
      "Number of models trained: 13\n",
      "Types of models trained:\n",
      "{'RFModel', 'KNNModel', 'LGBModel', 'NNFastAiTabularModel', 'WeightedEnsembleModel', 'CatBoostModel', 'XGBoostModel', 'XTModel'}\n",
      "Bagging used: False \n",
      "Multi-layer stack-ensembling used: False \n",
      "Feature Metadata (Processed):\n",
      "(raw dtype, special dtypes):\n",
      "('int', []) : 5 | ['ip', 'app', 'device', 'os', 'channel']\n",
      "Plot summary of models saved to file: AutogluonModels/ag-20211201_001849/SummaryOfModels.html\n",
      "*** End of fit() summary ***\n"
     ]
    }
   ],
   "source": [
    "results = predictor.fit_summary()"
   ]
  },
  {
   "cell_type": "code",
   "execution_count": 31,
   "id": "de316501",
   "metadata": {},
   "outputs": [
    {
     "data": {
      "text/html": [
       "<div>\n",
       "<style scoped>\n",
       "    .dataframe tbody tr th:only-of-type {\n",
       "        vertical-align: middle;\n",
       "    }\n",
       "\n",
       "    .dataframe tbody tr th {\n",
       "        vertical-align: top;\n",
       "    }\n",
       "\n",
       "    .dataframe thead th {\n",
       "        text-align: right;\n",
       "    }\n",
       "</style>\n",
       "<table border=\"1\" class=\"dataframe\">\n",
       "  <thead>\n",
       "    <tr style=\"text-align: right;\">\n",
       "      <th></th>\n",
       "      <th>model</th>\n",
       "      <th>score_val</th>\n",
       "      <th>pred_time_val</th>\n",
       "      <th>fit_time</th>\n",
       "      <th>pred_time_val_marginal</th>\n",
       "      <th>fit_time_marginal</th>\n",
       "      <th>stack_level</th>\n",
       "      <th>can_infer</th>\n",
       "      <th>fit_order</th>\n",
       "    </tr>\n",
       "  </thead>\n",
       "  <tbody>\n",
       "    <tr>\n",
       "      <th>0</th>\n",
       "      <td>WeightedEnsemble_L2</td>\n",
       "      <td>0.9988</td>\n",
       "      <td>0.247486</td>\n",
       "      <td>4.676809</td>\n",
       "      <td>0.005638</td>\n",
       "      <td>1.047958</td>\n",
       "      <td>2</td>\n",
       "      <td>True</td>\n",
       "      <td>13</td>\n",
       "    </tr>\n",
       "    <tr>\n",
       "      <th>1</th>\n",
       "      <td>LightGBMLarge</td>\n",
       "      <td>0.9984</td>\n",
       "      <td>0.005898</td>\n",
       "      <td>0.349896</td>\n",
       "      <td>0.005898</td>\n",
       "      <td>0.349896</td>\n",
       "      <td>1</td>\n",
       "      <td>True</td>\n",
       "      <td>12</td>\n",
       "    </tr>\n",
       "    <tr>\n",
       "      <th>2</th>\n",
       "      <td>XGBoost</td>\n",
       "      <td>0.9984</td>\n",
       "      <td>0.014941</td>\n",
       "      <td>5.651801</td>\n",
       "      <td>0.014941</td>\n",
       "      <td>5.651801</td>\n",
       "      <td>1</td>\n",
       "      <td>True</td>\n",
       "      <td>10</td>\n",
       "    </tr>\n",
       "    <tr>\n",
       "      <th>3</th>\n",
       "      <td>RandomForestEntr</td>\n",
       "      <td>0.9984</td>\n",
       "      <td>0.224052</td>\n",
       "      <td>2.238972</td>\n",
       "      <td>0.224052</td>\n",
       "      <td>2.238972</td>\n",
       "      <td>1</td>\n",
       "      <td>True</td>\n",
       "      <td>2</td>\n",
       "    </tr>\n",
       "    <tr>\n",
       "      <th>4</th>\n",
       "      <td>LightGBM</td>\n",
       "      <td>0.9980</td>\n",
       "      <td>0.006629</td>\n",
       "      <td>0.632614</td>\n",
       "      <td>0.006629</td>\n",
       "      <td>0.632614</td>\n",
       "      <td>1</td>\n",
       "      <td>True</td>\n",
       "      <td>7</td>\n",
       "    </tr>\n",
       "    <tr>\n",
       "      <th>5</th>\n",
       "      <td>ExtraTreesEntr</td>\n",
       "      <td>0.9980</td>\n",
       "      <td>0.223184</td>\n",
       "      <td>1.670884</td>\n",
       "      <td>0.223184</td>\n",
       "      <td>1.670884</td>\n",
       "      <td>1</td>\n",
       "      <td>True</td>\n",
       "      <td>4</td>\n",
       "    </tr>\n",
       "    <tr>\n",
       "      <th>6</th>\n",
       "      <td>RandomForestGini</td>\n",
       "      <td>0.9980</td>\n",
       "      <td>0.224606</td>\n",
       "      <td>2.402699</td>\n",
       "      <td>0.224606</td>\n",
       "      <td>2.402699</td>\n",
       "      <td>1</td>\n",
       "      <td>True</td>\n",
       "      <td>1</td>\n",
       "    </tr>\n",
       "    <tr>\n",
       "      <th>7</th>\n",
       "      <td>ExtraTreesGini</td>\n",
       "      <td>0.9980</td>\n",
       "      <td>0.225219</td>\n",
       "      <td>1.362916</td>\n",
       "      <td>0.225219</td>\n",
       "      <td>1.362916</td>\n",
       "      <td>1</td>\n",
       "      <td>True</td>\n",
       "      <td>3</td>\n",
       "    </tr>\n",
       "    <tr>\n",
       "      <th>8</th>\n",
       "      <td>LightGBMXT</td>\n",
       "      <td>0.9976</td>\n",
       "      <td>0.005941</td>\n",
       "      <td>0.175538</td>\n",
       "      <td>0.005941</td>\n",
       "      <td>0.175538</td>\n",
       "      <td>1</td>\n",
       "      <td>True</td>\n",
       "      <td>8</td>\n",
       "    </tr>\n",
       "    <tr>\n",
       "      <th>9</th>\n",
       "      <td>CatBoost</td>\n",
       "      <td>0.9976</td>\n",
       "      <td>0.011898</td>\n",
       "      <td>1.039983</td>\n",
       "      <td>0.011898</td>\n",
       "      <td>1.039983</td>\n",
       "      <td>1</td>\n",
       "      <td>True</td>\n",
       "      <td>9</td>\n",
       "    </tr>\n",
       "    <tr>\n",
       "      <th>10</th>\n",
       "      <td>KNeighborsUnif</td>\n",
       "      <td>0.9976</td>\n",
       "      <td>0.126200</td>\n",
       "      <td>0.588962</td>\n",
       "      <td>0.126200</td>\n",
       "      <td>0.588962</td>\n",
       "      <td>1</td>\n",
       "      <td>True</td>\n",
       "      <td>5</td>\n",
       "    </tr>\n",
       "    <tr>\n",
       "      <th>11</th>\n",
       "      <td>KNeighborsDist</td>\n",
       "      <td>0.9976</td>\n",
       "      <td>0.126831</td>\n",
       "      <td>0.570664</td>\n",
       "      <td>0.126831</td>\n",
       "      <td>0.570664</td>\n",
       "      <td>1</td>\n",
       "      <td>True</td>\n",
       "      <td>6</td>\n",
       "    </tr>\n",
       "    <tr>\n",
       "      <th>12</th>\n",
       "      <td>NeuralNetFastAI</td>\n",
       "      <td>0.9976</td>\n",
       "      <td>9.405208</td>\n",
       "      <td>509.729140</td>\n",
       "      <td>9.405208</td>\n",
       "      <td>509.729140</td>\n",
       "      <td>1</td>\n",
       "      <td>True</td>\n",
       "      <td>11</td>\n",
       "    </tr>\n",
       "  </tbody>\n",
       "</table>\n",
       "</div>"
      ],
      "text/plain": [
       "                  model  score_val  pred_time_val    fit_time  \\\n",
       "0   WeightedEnsemble_L2     0.9988       0.247486    4.676809   \n",
       "1         LightGBMLarge     0.9984       0.005898    0.349896   \n",
       "2               XGBoost     0.9984       0.014941    5.651801   \n",
       "3      RandomForestEntr     0.9984       0.224052    2.238972   \n",
       "4              LightGBM     0.9980       0.006629    0.632614   \n",
       "5        ExtraTreesEntr     0.9980       0.223184    1.670884   \n",
       "6      RandomForestGini     0.9980       0.224606    2.402699   \n",
       "7        ExtraTreesGini     0.9980       0.225219    1.362916   \n",
       "8            LightGBMXT     0.9976       0.005941    0.175538   \n",
       "9              CatBoost     0.9976       0.011898    1.039983   \n",
       "10       KNeighborsUnif     0.9976       0.126200    0.588962   \n",
       "11       KNeighborsDist     0.9976       0.126831    0.570664   \n",
       "12      NeuralNetFastAI     0.9976       9.405208  509.729140   \n",
       "\n",
       "    pred_time_val_marginal  fit_time_marginal  stack_level  can_infer  \\\n",
       "0                 0.005638           1.047958            2       True   \n",
       "1                 0.005898           0.349896            1       True   \n",
       "2                 0.014941           5.651801            1       True   \n",
       "3                 0.224052           2.238972            1       True   \n",
       "4                 0.006629           0.632614            1       True   \n",
       "5                 0.223184           1.670884            1       True   \n",
       "6                 0.224606           2.402699            1       True   \n",
       "7                 0.225219           1.362916            1       True   \n",
       "8                 0.005941           0.175538            1       True   \n",
       "9                 0.011898           1.039983            1       True   \n",
       "10                0.126200           0.588962            1       True   \n",
       "11                0.126831           0.570664            1       True   \n",
       "12                9.405208         509.729140            1       True   \n",
       "\n",
       "    fit_order  \n",
       "0          13  \n",
       "1          12  \n",
       "2          10  \n",
       "3           2  \n",
       "4           7  \n",
       "5           4  \n",
       "6           1  \n",
       "7           3  \n",
       "8           8  \n",
       "9           9  \n",
       "10          5  \n",
       "11          6  \n",
       "12         11  "
      ]
     },
     "execution_count": 31,
     "metadata": {},
     "output_type": "execute_result"
    }
   ],
   "source": [
    "predictor.leaderboard(silent=True)"
   ]
  },
  {
   "cell_type": "markdown",
   "id": "eac7e8ed",
   "metadata": {},
   "source": [
    "#### Feature Importance"
   ]
  },
  {
   "cell_type": "code",
   "execution_count": 32,
   "id": "ec476ada",
   "metadata": {},
   "outputs": [
    {
     "name": "stderr",
     "output_type": "stream",
     "text": [
      "Computing feature importance via permutation shuffling for 5 features using 1000 rows with 3 shuffle sets...\n",
      "\t8.48s\t= Expected runtime (2.83s per shuffle set)\n",
      "\t1.82s\t= Actual runtime (Completed 3 of 3 shuffle sets)\n"
     ]
    },
    {
     "data": {
      "text/html": [
       "<div>\n",
       "<style scoped>\n",
       "    .dataframe tbody tr th:only-of-type {\n",
       "        vertical-align: middle;\n",
       "    }\n",
       "\n",
       "    .dataframe tbody tr th {\n",
       "        vertical-align: top;\n",
       "    }\n",
       "\n",
       "    .dataframe thead th {\n",
       "        text-align: right;\n",
       "    }\n",
       "</style>\n",
       "<table border=\"1\" class=\"dataframe\">\n",
       "  <thead>\n",
       "    <tr style=\"text-align: right;\">\n",
       "      <th></th>\n",
       "      <th>importance</th>\n",
       "      <th>stddev</th>\n",
       "      <th>p_value</th>\n",
       "      <th>n</th>\n",
       "      <th>p99_high</th>\n",
       "      <th>p99_low</th>\n",
       "    </tr>\n",
       "  </thead>\n",
       "  <tbody>\n",
       "    <tr>\n",
       "      <th>channel</th>\n",
       "      <td>0.003667</td>\n",
       "      <td>0.003055</td>\n",
       "      <td>0.086595</td>\n",
       "      <td>3</td>\n",
       "      <td>0.021172</td>\n",
       "      <td>-0.013839</td>\n",
       "    </tr>\n",
       "    <tr>\n",
       "      <th>os</th>\n",
       "      <td>0.001333</td>\n",
       "      <td>0.001528</td>\n",
       "      <td>0.134852</td>\n",
       "      <td>3</td>\n",
       "      <td>0.010086</td>\n",
       "      <td>-0.007420</td>\n",
       "    </tr>\n",
       "    <tr>\n",
       "      <th>app</th>\n",
       "      <td>0.001000</td>\n",
       "      <td>0.001000</td>\n",
       "      <td>0.112702</td>\n",
       "      <td>3</td>\n",
       "      <td>0.006730</td>\n",
       "      <td>-0.004730</td>\n",
       "    </tr>\n",
       "    <tr>\n",
       "      <th>ip</th>\n",
       "      <td>0.001000</td>\n",
       "      <td>0.001000</td>\n",
       "      <td>0.112702</td>\n",
       "      <td>3</td>\n",
       "      <td>0.006730</td>\n",
       "      <td>-0.004730</td>\n",
       "    </tr>\n",
       "    <tr>\n",
       "      <th>device</th>\n",
       "      <td>0.000000</td>\n",
       "      <td>0.000000</td>\n",
       "      <td>0.500000</td>\n",
       "      <td>3</td>\n",
       "      <td>0.000000</td>\n",
       "      <td>0.000000</td>\n",
       "    </tr>\n",
       "  </tbody>\n",
       "</table>\n",
       "</div>"
      ],
      "text/plain": [
       "         importance    stddev   p_value  n  p99_high   p99_low\n",
       "channel    0.003667  0.003055  0.086595  3  0.021172 -0.013839\n",
       "os         0.001333  0.001528  0.134852  3  0.010086 -0.007420\n",
       "app        0.001000  0.001000  0.112702  3  0.006730 -0.004730\n",
       "ip         0.001000  0.001000  0.112702  3  0.006730 -0.004730\n",
       "device     0.000000  0.000000  0.500000  3  0.000000  0.000000"
      ]
     },
     "execution_count": 32,
     "metadata": {},
     "output_type": "execute_result"
    }
   ],
   "source": [
    "predictor.feature_importance(data=test_df)"
   ]
  },
  {
   "cell_type": "markdown",
   "id": "8bfd92d7",
   "metadata": {},
   "source": [
    "#### 특정 모델을 지정하여 검증"
   ]
  },
  {
   "cell_type": "code",
   "execution_count": 43,
   "id": "e319a765",
   "metadata": {},
   "outputs": [
    {
     "name": "stdout",
     "output_type": "stream",
     "text": [
      "best_model:  WeightedEnsemble_L2\n",
      "list_models:  ['RandomForestGini', 'RandomForestEntr', 'ExtraTreesGini', 'ExtraTreesEntr', 'KNeighborsUnif', 'KNeighborsDist', 'LightGBM', 'LightGBMXT', 'CatBoost', 'XGBoost', 'NeuralNetFastAI', 'LightGBMLarge', 'WeightedEnsemble_L2']\n",
      "selected_model:  RandomForestGini\n"
     ]
    }
   ],
   "source": [
    "best_model = predictor.get_model_best() # validation 지표 기준\n",
    "print(\"best_model: \", best_model)\n",
    "list_models = predictor.get_model_names()\n",
    "print(\"list_models: \", list_models)\n",
    "selected_model = list_models[0]\n",
    "print(\"selected_model: \", selected_model)"
   ]
  },
  {
   "cell_type": "code",
   "execution_count": 42,
   "id": "ff41074d",
   "metadata": {},
   "outputs": [
    {
     "data": {
      "text/plain": [
       "{'name': 'RandomForestGini',\n",
       " 'model_type': 'RFModel',\n",
       " 'problem_type': 'binary',\n",
       " 'eval_metric': 'accuracy',\n",
       " 'stopping_metric': 'accuracy',\n",
       " 'fit_time': 2.4026994705200195,\n",
       " 'num_classes': 2,\n",
       " 'predict_time': 0.22460603713989258,\n",
       " 'val_score': 0.998,\n",
       " 'hyperparameters': {'n_estimators': 300,\n",
       "  'n_jobs': -1,\n",
       "  'random_state': 0,\n",
       "  'criterion': 'gini'},\n",
       " 'hyperparameters_fit': {'n_estimators': 300},\n",
       " 'hyperparameters_nondefault': ['criterion'],\n",
       " 'ag_args_fit': {'max_memory_usage_ratio': 1.0,\n",
       "  'max_time_limit_ratio': 1.0,\n",
       "  'max_time_limit': None,\n",
       "  'min_time_limit': 0,\n",
       "  'ignored_type_group_special': None,\n",
       "  'ignored_type_group_raw': ['object'],\n",
       "  'get_features_kwargs': None,\n",
       "  'get_features_kwargs_extra': None},\n",
       " 'num_features': 5,\n",
       " 'features': ['ip', 'app', 'device', 'os', 'channel'],\n",
       " 'feature_metadata': <autogluon.core.features.feature_metadata.FeatureMetadata at 0x7f2b58434f60>,\n",
       " 'memory_size': 21960891}"
      ]
     },
     "execution_count": 42,
     "metadata": {},
     "output_type": "execute_result"
    }
   ],
   "source": [
    "specific_model = predictor._trainer.load_model(selected_model)\n",
    "model_info = specific_model.get_info()\n",
    "model_info"
   ]
  },
  {
   "cell_type": "markdown",
   "id": "83e2dc66",
   "metadata": {},
   "source": [
    "### Train and deploy using SageMaker"
   ]
  },
  {
   "cell_type": "code",
   "execution_count": 45,
   "id": "e32aa33d",
   "metadata": {},
   "outputs": [],
   "source": [
    "import sagemaker\n",
    "\n",
    "# Helper wrappers referred earlier\n",
    "from ag_model import (\n",
    "    AutoGluonTraining,\n",
    "    AutoGluonInferenceModel,\n",
    "    AutoGluonTabularPredictor,\n",
    ")\n",
    "from sagemaker import utils\n",
    "\n",
    "role = sagemaker.get_execution_role()\n",
    "sagemaker_session = sagemaker.session.Session()\n",
    "region = sagemaker_session._region_name\n",
    "\n",
    "bucket = sagemaker_session.default_bucket()\n",
    "s3_prefix = f\"autogluon_sm/{utils.sagemaker_timestamp()}\"\n",
    "output_path = f\"s3://{bucket}/{s3_prefix}/output/\""
   ]
  },
  {
   "cell_type": "code",
   "execution_count": 61,
   "id": "2f111213",
   "metadata": {},
   "outputs": [],
   "source": [
    "ag = AutoGluonTraining(\n",
    "    role=role,\n",
    "    entry_point=\"scripts/tabular_train.py\",\n",
    "    region=region,\n",
    "    instance_count=1,\n",
    "    instance_type=\"ml.c5n.18xlarge\",\n",
    "    framework_version=\"0.3.1\",\n",
    "    base_job_name=\"autogluon-tabular-train\",\n",
    ")"
   ]
  },
  {
   "cell_type": "code",
   "execution_count": 62,
   "id": "f7e983d4",
   "metadata": {},
   "outputs": [],
   "source": [
    "s3_prefix = f\"autogluon_sm/{utils.sagemaker_timestamp()}\"\n",
    "train_input = ag.sagemaker_session.upload_data(\n",
    "    path=os.path.join(\"data\", \"train.csv\"), key_prefix=s3_prefix\n",
    ")\n",
    "eval_input = ag.sagemaker_session.upload_data(\n",
    "    path=os.path.join(\"data\", \"test.csv\"), key_prefix=s3_prefix\n",
    ")\n",
    "config_input = ag.sagemaker_session.upload_data(\n",
    "    path=os.path.join(\"config\", \"config-med.yaml\"), key_prefix=s3_prefix\n",
    ")\n"
   ]
  },
  {
   "cell_type": "code",
   "execution_count": 63,
   "id": "4304f3ae",
   "metadata": {},
   "outputs": [
    {
     "name": "stderr",
     "output_type": "stream",
     "text": [
      "Defaulting to the only supported framework/algorithm version: latest.\n",
      "Ignoring unnecessary instance type: None.\n",
      "Creating training-job with name: test-autogluon-image-1638327738-14ba\n"
     ]
    },
    {
     "name": "stdout",
     "output_type": "stream",
     "text": [
      "2021-12-01 03:02:18 Starting - Starting the training job...\n",
      "2021-12-01 03:02:42 Starting - Launching requested ML instancesProfilerReport-1638327738: InProgress\n",
      ".........\n",
      "2021-12-01 03:04:06 Starting - Preparing the instances for training......\n",
      "2021-12-01 03:05:16 Downloading - Downloading input data\n",
      "2021-12-01 03:05:16 Training - Downloading the training image...\n",
      "2021-12-01 03:05:44 Training - Training image download completed. Training in progress..\u001b[34m2021-12-01 03:05:45,301 sagemaker-training-toolkit INFO     Imported framework sagemaker_mxnet_container.training\u001b[0m\n",
      "\u001b[34m2021-12-01 03:05:45,302 sagemaker-training-toolkit INFO     No GPUs detected (normal if no gpus installed)\u001b[0m\n",
      "\u001b[34m2021-12-01 03:05:45,312 sagemaker_mxnet_container.training INFO     MXNet training environment: {'SM_HOSTS': '[\"algo-1\"]', 'SM_NETWORK_INTERFACE_NAME': 'eth0', 'SM_HPS': '{}', 'SM_USER_ENTRY_POINT': 'tabular_train.py', 'SM_FRAMEWORK_PARAMS': '{}', 'SM_RESOURCE_CONFIG': '{\"current_host\":\"algo-1\",\"hosts\":[\"algo-1\"],\"network_interface_name\":\"eth0\"}', 'SM_INPUT_DATA_CONFIG': '{\"config\":{\"RecordWrapperType\":\"None\",\"S3DistributionType\":\"FullyReplicated\",\"TrainingInputMode\":\"File\"},\"test\":{\"RecordWrapperType\":\"None\",\"S3DistributionType\":\"FullyReplicated\",\"TrainingInputMode\":\"File\"},\"train\":{\"RecordWrapperType\":\"None\",\"S3DistributionType\":\"FullyReplicated\",\"TrainingInputMode\":\"File\"}}', 'SM_OUTPUT_DATA_DIR': '/opt/ml/output/data', 'SM_CHANNELS': '[\"config\",\"test\",\"train\"]', 'SM_CURRENT_HOST': 'algo-1', 'SM_MODULE_NAME': 'tabular_train', 'SM_LOG_LEVEL': '20', 'SM_FRAMEWORK_MODULE': 'sagemaker_mxnet_container.training:main', 'SM_INPUT_DIR': '/opt/ml/input', 'SM_INPUT_CONFIG_DIR': '/opt/ml/input/config', 'SM_OUTPUT_DIR': '/opt/ml/output', 'SM_NUM_CPUS': '72', 'SM_NUM_GPUS': '0', 'SM_MODEL_DIR': '/opt/ml/model', 'SM_MODULE_DIR': 's3://sagemaker-ap-northeast-2-806174985048/test-autogluon-image-1638327738-14ba/source/sourcedir.tar.gz', 'SM_TRAINING_ENV': '{\"additional_framework_parameters\":{},\"channel_input_dirs\":{\"config\":\"/opt/ml/input/data/config\",\"test\":\"/opt/ml/input/data/test\",\"train\":\"/opt/ml/input/data/train\"},\"current_host\":\"algo-1\",\"framework_module\":\"sagemaker_mxnet_container.training:main\",\"hosts\":[\"algo-1\"],\"hyperparameters\":{},\"input_config_dir\":\"/opt/ml/input/config\",\"input_data_config\":{\"config\":{\"RecordWrapperType\":\"None\",\"S3DistributionType\":\"FullyReplicated\",\"TrainingInputMode\":\"File\"},\"test\":{\"RecordWrapperType\":\"None\",\"S3DistributionType\":\"FullyReplicated\",\"TrainingInputMode\":\"File\"},\"train\":{\"RecordWrapperType\":\"None\",\"S3DistributionType\":\"FullyReplicated\",\"TrainingInputMode\":\"File\"}},\"input_dir\":\"/opt/ml/input\",\"is_master\":true,\"job_name\":\"test-autogluon-image-1638327738-14ba\",\"log_level\":20,\"master_hostname\":\"algo-1\",\"model_dir\":\"/opt/ml/model\",\"module_dir\":\"s3://sagemaker-ap-northeast-2-806174985048/test-autogluon-image-1638327738-14ba/source/sourcedir.tar.gz\",\"module_name\":\"tabular_train\",\"network_interface_name\":\"eth0\",\"num_cpus\":72,\"num_gpus\":0,\"output_data_dir\":\"/opt/ml/output/data\",\"output_dir\":\"/opt/ml/output\",\"output_intermediate_dir\":\"/opt/ml/output/intermediate\",\"resource_config\":{\"current_host\":\"algo-1\",\"hosts\":[\"algo-1\"],\"network_interface_name\":\"eth0\"},\"user_entry_point\":\"tabular_train.py\"}', 'SM_USER_ARGS': '[]', 'SM_OUTPUT_INTERMEDIATE_DIR': '/opt/ml/output/intermediate', 'SM_CHANNEL_TEST': '/opt/ml/input/data/test', 'SM_CHANNEL_CONFIG': '/opt/ml/input/data/config', 'SM_CHANNEL_TRAIN': '/opt/ml/input/data/train'}\u001b[0m\n",
      "\u001b[34m2021-12-01 03:05:45,751 sagemaker-training-toolkit INFO     No GPUs detected (normal if no gpus installed)\u001b[0m\n",
      "\u001b[34m2021-12-01 03:05:46,376 sagemaker-training-toolkit INFO     No GPUs detected (normal if no gpus installed)\u001b[0m\n",
      "\u001b[34m2021-12-01 03:05:46,389 sagemaker-training-toolkit INFO     No GPUs detected (normal if no gpus installed)\u001b[0m\n",
      "\u001b[34m2021-12-01 03:05:46,399 sagemaker-training-toolkit INFO     Invoking user script\u001b[0m\n",
      "\u001b[34mTraining Env:\u001b[0m\n",
      "\u001b[34m{\n",
      "    \"additional_framework_parameters\": {},\n",
      "    \"channel_input_dirs\": {\n",
      "        \"test\": \"/opt/ml/input/data/test\",\n",
      "        \"config\": \"/opt/ml/input/data/config\",\n",
      "        \"train\": \"/opt/ml/input/data/train\"\n",
      "    },\n",
      "    \"current_host\": \"algo-1\",\n",
      "    \"framework_module\": \"sagemaker_mxnet_container.training:main\",\n",
      "    \"hosts\": [\n",
      "        \"algo-1\"\n",
      "    ],\n",
      "    \"hyperparameters\": {},\n",
      "    \"input_config_dir\": \"/opt/ml/input/config\",\n",
      "    \"input_data_config\": {\n",
      "        \"test\": {\n",
      "            \"TrainingInputMode\": \"File\",\n",
      "            \"S3DistributionType\": \"FullyReplicated\",\n",
      "            \"RecordWrapperType\": \"None\"\n",
      "        },\n",
      "        \"config\": {\n",
      "            \"TrainingInputMode\": \"File\",\n",
      "            \"S3DistributionType\": \"FullyReplicated\",\n",
      "            \"RecordWrapperType\": \"None\"\n",
      "        },\n",
      "        \"train\": {\n",
      "            \"TrainingInputMode\": \"File\",\n",
      "            \"S3DistributionType\": \"FullyReplicated\",\n",
      "            \"RecordWrapperType\": \"None\"\n",
      "        }\n",
      "    },\n",
      "    \"input_dir\": \"/opt/ml/input\",\n",
      "    \"is_master\": true,\n",
      "    \"job_name\": \"test-autogluon-image-1638327738-14ba\",\n",
      "    \"log_level\": 20,\n",
      "    \"master_hostname\": \"algo-1\",\n",
      "    \"model_dir\": \"/opt/ml/model\",\n",
      "    \"module_dir\": \"s3://sagemaker-ap-northeast-2-806174985048/test-autogluon-image-1638327738-14ba/source/sourcedir.tar.gz\",\n",
      "    \"module_name\": \"tabular_train\",\n",
      "    \"network_interface_name\": \"eth0\",\n",
      "    \"num_cpus\": 72,\n",
      "    \"num_gpus\": 0,\n",
      "    \"output_data_dir\": \"/opt/ml/output/data\",\n",
      "    \"output_dir\": \"/opt/ml/output\",\n",
      "    \"output_intermediate_dir\": \"/opt/ml/output/intermediate\",\n",
      "    \"resource_config\": {\n",
      "        \"current_host\": \"algo-1\",\n",
      "        \"hosts\": [\n",
      "            \"algo-1\"\n",
      "        ],\n",
      "        \"network_interface_name\": \"eth0\"\n",
      "    },\n",
      "    \"user_entry_point\": \"tabular_train.py\"\u001b[0m\n",
      "\u001b[34m}\u001b[0m\n",
      "\u001b[34mEnvironment variables:\u001b[0m\n",
      "\u001b[34mSM_HOSTS=[\"algo-1\"]\u001b[0m\n",
      "\u001b[34mSM_NETWORK_INTERFACE_NAME=eth0\u001b[0m\n",
      "\u001b[34mSM_HPS={}\u001b[0m\n",
      "\u001b[34mSM_USER_ENTRY_POINT=tabular_train.py\u001b[0m\n",
      "\u001b[34mSM_FRAMEWORK_PARAMS={}\u001b[0m\n",
      "\u001b[34mSM_RESOURCE_CONFIG={\"current_host\":\"algo-1\",\"hosts\":[\"algo-1\"],\"network_interface_name\":\"eth0\"}\u001b[0m\n",
      "\u001b[34mSM_INPUT_DATA_CONFIG={\"config\":{\"RecordWrapperType\":\"None\",\"S3DistributionType\":\"FullyReplicated\",\"TrainingInputMode\":\"File\"},\"test\":{\"RecordWrapperType\":\"None\",\"S3DistributionType\":\"FullyReplicated\",\"TrainingInputMode\":\"File\"},\"train\":{\"RecordWrapperType\":\"None\",\"S3DistributionType\":\"FullyReplicated\",\"TrainingInputMode\":\"File\"}}\u001b[0m\n",
      "\u001b[34mSM_OUTPUT_DATA_DIR=/opt/ml/output/data\u001b[0m\n",
      "\u001b[34mSM_CHANNELS=[\"config\",\"test\",\"train\"]\u001b[0m\n",
      "\u001b[34mSM_CURRENT_HOST=algo-1\u001b[0m\n",
      "\u001b[34mSM_MODULE_NAME=tabular_train\u001b[0m\n",
      "\u001b[34mSM_LOG_LEVEL=20\u001b[0m\n",
      "\u001b[34mSM_FRAMEWORK_MODULE=sagemaker_mxnet_container.training:main\u001b[0m\n",
      "\u001b[34mSM_INPUT_DIR=/opt/ml/input\u001b[0m\n",
      "\u001b[34mSM_INPUT_CONFIG_DIR=/opt/ml/input/config\u001b[0m\n",
      "\u001b[34mSM_OUTPUT_DIR=/opt/ml/output\u001b[0m\n",
      "\u001b[34mSM_NUM_CPUS=72\u001b[0m\n",
      "\u001b[34mSM_NUM_GPUS=0\u001b[0m\n",
      "\u001b[34mSM_MODEL_DIR=/opt/ml/model\u001b[0m\n",
      "\u001b[34mSM_MODULE_DIR=s3://sagemaker-ap-northeast-2-806174985048/test-autogluon-image-1638327738-14ba/source/sourcedir.tar.gz\u001b[0m\n",
      "\u001b[34mSM_TRAINING_ENV={\"additional_framework_parameters\":{},\"channel_input_dirs\":{\"config\":\"/opt/ml/input/data/config\",\"test\":\"/opt/ml/input/data/test\",\"train\":\"/opt/ml/input/data/train\"},\"current_host\":\"algo-1\",\"framework_module\":\"sagemaker_mxnet_container.training:main\",\"hosts\":[\"algo-1\"],\"hyperparameters\":{},\"input_config_dir\":\"/opt/ml/input/config\",\"input_data_config\":{\"config\":{\"RecordWrapperType\":\"None\",\"S3DistributionType\":\"FullyReplicated\",\"TrainingInputMode\":\"File\"},\"test\":{\"RecordWrapperType\":\"None\",\"S3DistributionType\":\"FullyReplicated\",\"TrainingInputMode\":\"File\"},\"train\":{\"RecordWrapperType\":\"None\",\"S3DistributionType\":\"FullyReplicated\",\"TrainingInputMode\":\"File\"}},\"input_dir\":\"/opt/ml/input\",\"is_master\":true,\"job_name\":\"test-autogluon-image-1638327738-14ba\",\"log_level\":20,\"master_hostname\":\"algo-1\",\"model_dir\":\"/opt/ml/model\",\"module_dir\":\"s3://sagemaker-ap-northeast-2-806174985048/test-autogluon-image-1638327738-14ba/source/sourcedir.tar.gz\",\"module_name\":\"tabular_train\",\"network_interface_name\":\"eth0\",\"num_cpus\":72,\"num_gpus\":0,\"output_data_dir\":\"/opt/ml/output/data\",\"output_dir\":\"/opt/ml/output\",\"output_intermediate_dir\":\"/opt/ml/output/intermediate\",\"resource_config\":{\"current_host\":\"algo-1\",\"hosts\":[\"algo-1\"],\"network_interface_name\":\"eth0\"},\"user_entry_point\":\"tabular_train.py\"}\u001b[0m\n",
      "\u001b[34mSM_USER_ARGS=[]\u001b[0m\n",
      "\u001b[34mSM_OUTPUT_INTERMEDIATE_DIR=/opt/ml/output/intermediate\u001b[0m\n",
      "\u001b[34mSM_CHANNEL_TEST=/opt/ml/input/data/test\u001b[0m\n",
      "\u001b[34mSM_CHANNEL_CONFIG=/opt/ml/input/data/config\u001b[0m\n",
      "\u001b[34mSM_CHANNEL_TRAIN=/opt/ml/input/data/train\u001b[0m\n",
      "\u001b[34mPYTHONPATH=/opt/ml/code:/usr/local/bin:/usr/local/lib/python37.zip:/usr/local/lib/python3.7:/usr/local/lib/python3.7/lib-dynload:/usr/local/lib/python3.7/site-packages\u001b[0m\n",
      "\u001b[34mInvoking script with the following command:\u001b[0m\n",
      "\u001b[34m/usr/local/bin/python3.7 tabular_train.py\u001b[0m\n",
      "\u001b[34mStarting AG\u001b[0m\n",
      "\u001b[34mArgs: Namespace(ag_config='/opt/ml/input/data/config', model_dir='/opt/ml/model', n_gpus='0', output_data_dir='/opt/ml/output/data', test_dir='/opt/ml/input/data/test', training_dir='/opt/ml/input/data/train')\u001b[0m\n",
      "\u001b[34mUsing config-med.yaml\u001b[0m\n",
      "\u001b[34mRunning training job with the config:\u001b[0m\n",
      "\u001b[34m{'ag_fit_args': {'hyperparameters': None,\n",
      "                 'num_bag_folds': 2,\n",
      "                 'num_bag_sets': 1,\n",
      "                 'num_stack_levels': 0,\n",
      "                 'presets': 'medium_quality_faster_train'},\n",
      " 'ag_predictor_args': {'eval_metric': 'roc_auc', 'label': 'is_attributed'},\n",
      " 'feature_importance': True,\n",
      " 'leaderboard': True,\n",
      " 'num_gpus': 0,\n",
      " 'output_prediction_format': 'csv'}\u001b[0m\n",
      "\u001b[34mUsing train.csv\u001b[0m\n",
      "\u001b[34mWarning: path already exists! This predictor may overwrite an existing predictor! path=\"/opt/ml/model\"\u001b[0m\n",
      "\u001b[34mPresets specified: ['medium_quality_faster_train']\u001b[0m\n",
      "\u001b[34mWarning: Training may take a very long time because `time_limit` was not specified and `train_data` is large (180000 samples, 10.08 MB).\u001b[0m\n",
      "\u001b[34m#011Consider setting `time_limit` to ensure training finishes within an expected duration or experiment with a small portion of `train_data` to identify an ideal `presets` and `hyperparameters` configuration.\u001b[0m\n",
      "\u001b[34mBeginning AutoGluon training ...\u001b[0m\n",
      "\u001b[34mAutoGluon will save models to \"/opt/ml/model/\"\u001b[0m\n",
      "\u001b[34mAutoGluon Version:  0.3.1\u001b[0m\n",
      "\u001b[34mTrain Data Rows:    180000\u001b[0m\n",
      "\u001b[34mTrain Data Columns: 6\u001b[0m\n",
      "\u001b[34mPreprocessing data ...\u001b[0m\n",
      "\u001b[34mAutoGluon infers your prediction problem is: 'binary' (because only two unique label-values observed).\u001b[0m\n",
      "\u001b[34m#0112 unique label values:  [0, 1]\u001b[0m\n",
      "\u001b[34m#011If 'binary' is not the correct problem_type, please manually specify the problem_type argument in fit() (You may specify problem_type as one of: ['binary', 'multiclass', 'regression'])\u001b[0m\n",
      "\u001b[34mSelected class <--> label mapping:  class 1 = 1, class 0 = 0\u001b[0m\n",
      "\u001b[34mUsing Feature Generators to preprocess the data ...\u001b[0m\n",
      "\u001b[34mFitting AutoMLPipelineFeatureGenerator...\u001b[0m\n",
      "\u001b[34m#011Available Memory:                    186408.99 MB\u001b[0m\n",
      "\u001b[34m#011Train Data (Original)  Memory Usage: 8.64 MB (0.0% of available memory)\u001b[0m\n",
      "\u001b[34m#011Inferring data type of each feature based on column values. Set feature_metadata_in to manually specify special dtypes of the features.\u001b[0m\n",
      "\u001b[34m#011Stage 1 Generators:\u001b[0m\n",
      "\u001b[34m#011#011Fitting AsTypeFeatureGenerator...\u001b[0m\n",
      "\u001b[34m#011Stage 2 Generators:\u001b[0m\n",
      "\u001b[34m#011#011Fitting FillNaFeatureGenerator...\u001b[0m\n",
      "\u001b[34m#011Stage 3 Generators:\u001b[0m\n",
      "\u001b[34m#011#011Fitting IdentityFeatureGenerator...\u001b[0m\n",
      "\u001b[34m#011Stage 4 Generators:\u001b[0m\n",
      "\u001b[34m#011#011Fitting DropUniqueFeatureGenerator...\u001b[0m\n",
      "\u001b[34m#011Types of features in original data (raw dtype, special dtypes):\u001b[0m\n",
      "\u001b[34m#011#011('int', []) : 6 | ['Unnamed: 0', 'ip', 'app', 'device', 'os', ...]\u001b[0m\n",
      "\u001b[34m#011Types of features in processed data (raw dtype, special dtypes):\u001b[0m\n",
      "\u001b[34m#011#011('int', []) : 6 | ['Unnamed: 0', 'ip', 'app', 'device', 'os', ...]\u001b[0m\n",
      "\u001b[34m#0110.2s = Fit runtime\u001b[0m\n",
      "\u001b[34m#0116 features in original data used to generate 6 features in processed data.\u001b[0m\n",
      "\u001b[34m#011Train Data (Processed) Memory Usage: 8.64 MB (0.0% of available memory)\u001b[0m\n",
      "\u001b[34mData preprocessing and feature engineering runtime = 0.24s ...\u001b[0m\n",
      "\u001b[34mAutoGluon will gauge predictive performance using evaluation metric: 'roc_auc'\u001b[0m\n",
      "\u001b[34m#011This metric expects predicted probabilities rather than predicted class labels, so you'll need to use predict_proba() instead of predict()\u001b[0m\n",
      "\u001b[34m#011To change this, specify the eval_metric argument of fit()\u001b[0m\n",
      "\u001b[34mFitting 13 L1 models ...\u001b[0m\n",
      "\u001b[34mFitting model: KNeighborsUnif_BAG_L1 ...\u001b[0m\n",
      "\u001b[34m#0110.4966#011 = Validation score   (roc_auc)\u001b[0m\n",
      "\u001b[34m#0110.57s#011 = Training   runtime\u001b[0m\n",
      "\u001b[34m#0111.48s#011 = Validation runtime\u001b[0m\n",
      "\u001b[34mFitting model: KNeighborsDist_BAG_L1 ...\u001b[0m\n",
      "\u001b[34m#0110.4966#011 = Validation score   (roc_auc)\u001b[0m\n",
      "\u001b[34m#0110.5s#011 = Training   runtime\u001b[0m\n",
      "\u001b[34m#0111.16s#011 = Validation runtime\u001b[0m\n",
      "\u001b[34mFitting model: LightGBMXT_BAG_L1 ...\u001b[0m\n",
      "\u001b[34m#0110.9233#011 = Validation score   (roc_auc)\u001b[0m\n",
      "\u001b[34m#0114.07s#011 = Training   runtime\u001b[0m\n",
      "\u001b[34m#0110.07s#011 = Validation runtime\u001b[0m\n",
      "\u001b[34mFitting model: LightGBM_BAG_L1 ...\u001b[0m\n",
      "\u001b[34m#0110.9294#011 = Validation score   (roc_auc)\u001b[0m\n",
      "\u001b[34m#0111.4s#011 = Training   runtime\u001b[0m\n",
      "\u001b[34m#0110.04s#011 = Validation runtime\u001b[0m\n",
      "\u001b[34mFitting model: RandomForestGini_BAG_L1 ...\u001b[0m\n",
      "\u001b[34m#0110.9092#011 = Validation score   (roc_auc)\u001b[0m\n",
      "\u001b[34m#0112.58s#011 = Training   runtime\u001b[0m\n",
      "\u001b[34m#0113.59s#011 = Validation runtime\u001b[0m\n",
      "\u001b[34mFitting model: RandomForestEntr_BAG_L1 ...\u001b[0m\n",
      "\u001b[34m#0110.9094#011 = Validation score   (roc_auc)\u001b[0m\n",
      "\u001b[34m#0112.27s#011 = Training   runtime\u001b[0m\n",
      "\u001b[34m#0113.42s#011 = Validation runtime\u001b[0m\n",
      "\u001b[34mFitting model: CatBoost_BAG_L1 ...\u001b[0m\n",
      "\u001b[34m#0110.9339#011 = Validation score   (roc_auc)\u001b[0m\n",
      "\u001b[34m#0117.14s#011 = Training   runtime\u001b[0m\n",
      "\u001b[34m#0110.05s#011 = Validation runtime\u001b[0m\n",
      "\u001b[34mFitting model: ExtraTreesGini_BAG_L1 ...\u001b[0m\n",
      "\u001b[34m#0110.9113#011 = Validation score   (roc_auc)\u001b[0m\n",
      "\u001b[34m#0111.81s#011 = Training   runtime\u001b[0m\n",
      "\u001b[34m#0114.08s#011 = Validation runtime\u001b[0m\n",
      "\u001b[34mFitting model: ExtraTreesEntr_BAG_L1 ...\u001b[0m\n",
      "\u001b[34m#0110.9115#011 = Validation score   (roc_auc)\u001b[0m\n",
      "\u001b[34m#0111.72s#011 = Training   runtime\u001b[0m\n",
      "\u001b[34m#0114.12s#011 = Validation runtime\u001b[0m\n",
      "\u001b[34mFitting model: NeuralNetFastAI_BAG_L1 ...\u001b[0m\n",
      "\u001b[34mgenerated new fontManager\u001b[0m\n",
      "\u001b[34m#0110.9036#011 = Validation score   (roc_auc)\u001b[0m\n",
      "\u001b[34m#011231.75s#011 = Training   runtime\u001b[0m\n",
      "\u001b[34m#0111.94s#011 = Validation runtime\u001b[0m\n",
      "\u001b[34mFitting model: XGBoost_BAG_L1 ...\u001b[0m\n",
      "\u001b[34m#0110.9445#011 = Validation score   (roc_auc)\u001b[0m\n",
      "\u001b[34m#0111.11s#011 = Training   runtime\u001b[0m\n",
      "\u001b[34m#0110.05s#011 = Validation runtime\u001b[0m\n",
      "\u001b[34mFitting model: NeuralNetMXNet_BAG_L1 ...\u001b[0m\n",
      "\u001b[34m#0110.9208#011 = Validation score   (roc_auc)\u001b[0m\n",
      "\u001b[34m#011301.85s#011 = Training   runtime\u001b[0m\n",
      "\u001b[34m#0113.19s#011 = Validation runtime\u001b[0m\n",
      "\u001b[34mFitting model: LightGBMLarge_BAG_L1 ...\u001b[0m\n",
      "\u001b[34m#0110.8923#011 = Validation score   (roc_auc)\u001b[0m\n",
      "\u001b[34m#0113.17s#011 = Training   runtime\u001b[0m\n",
      "\u001b[34m#0110.04s#011 = Validation runtime\u001b[0m\n",
      "\u001b[34mFitting model: WeightedEnsemble_L2 ...\u001b[0m\n",
      "\u001b[34m#0110.9564#011 = Validation score   (roc_auc)\u001b[0m\n",
      "\u001b[34m#01151.98s#011 = Training   runtime\u001b[0m\n",
      "\u001b[34m#0110.04s#011 = Validation runtime\u001b[0m\n",
      "\u001b[34mAutoGluon training complete, total runtime = 637.21s ...\u001b[0m\n",
      "\u001b[34mUsing test.csv\u001b[0m\n",
      "\u001b[34mTabularPredictor saved. To load, use: predictor = TabularPredictor.load(\"/opt/ml/model/\")\u001b[0m\n",
      "\u001b[34mLoaded data from: /opt/ml/input/data/test/test.csv | Columns = 7 / 7 | Rows = 20000 -> 20000\u001b[0m\n",
      "\u001b[34m                      model  score_test  score_val  pred_time_test  pred_time_val    fit_time  pred_time_test_marginal  pred_time_val_marginal  fit_time_marginal  stack_level  can_infer  fit_order\u001b[0m\n",
      "\u001b[34m0            XGBoost_BAG_L1    0.958544   0.944496        0.043799       0.051002    1.111133                 0.043799                0.051002           1.111133            1       True         11\u001b[0m\n",
      "\u001b[34m1       WeightedEnsemble_L2    0.955800   0.956448        4.377686      10.997027  360.736281                 0.003334                0.043780          51.982160            2       True         14\u001b[0m\n",
      "\u001b[34m2           CatBoost_BAG_L1    0.950938   0.933947        0.030099       0.045423    7.140582                 0.030099                0.045423           7.140582            1       True          7\u001b[0m\n",
      "\u001b[34m3         LightGBMXT_BAG_L1    0.948082   0.923257        0.020556       0.070027    4.065653                 0.020556                0.070027           4.065653            1       True          3\u001b[0m\n",
      "\u001b[34m4           LightGBM_BAG_L1    0.945442   0.929401        0.010098       0.035385    1.398303                 0.010098                0.035385           1.398303            1       True          4\u001b[0m\n",
      "\u001b[34m5      LightGBMLarge_BAG_L1    0.941768   0.892299        0.166268       0.039474    3.171096                 0.166268                0.039474           3.171096            1       True         13\u001b[0m\n",
      "\u001b[34m6     ExtraTreesEntr_BAG_L1    0.935333   0.911493        0.269047       4.118075    1.724112                 0.269047                4.118075           1.724112            1       True          9\u001b[0m\n",
      "\u001b[34m7     NeuralNetMXNet_BAG_L1    0.931981   0.920770        3.790109       3.193090  301.850579                 3.790109                3.193090         301.850579            1       True         12\u001b[0m\n",
      "\u001b[34m8   RandomForestEntr_BAG_L1    0.920136   0.909427        0.240982       3.424062    2.265799                 0.240982                3.424062           2.265799            1       True          6\u001b[0m\n",
      "\u001b[34m9   RandomForestGini_BAG_L1    0.917367   0.909168        0.243119       3.594335    2.580270                 0.243119                3.594335           2.580270            1       True          5\u001b[0m\n",
      "\u001b[34m10    ExtraTreesGini_BAG_L1    0.915271   0.911271        0.287226       4.079436    1.813837                 0.287226                4.079436           1.813837            1       True          8\u001b[0m\n",
      "\u001b[34m11   NeuralNetFastAI_BAG_L1    0.883654   0.903560        1.964253       1.941314  231.751354                 1.964253                1.941314         231.751354            1       True         10\u001b[0m\n",
      "\u001b[34m12    KNeighborsDist_BAG_L1    0.500000   0.496551        0.334054       1.164458    0.502265                 0.334054                1.164458           0.502265            1       True          2\u001b[0m\n",
      "\u001b[34m13    KNeighborsUnif_BAG_L1    0.500000   0.496562        0.336476       1.478075    0.573670                 0.336476                1.478075           0.573670            1       True          1\u001b[0m\n",
      "\u001b[34mComputing feature importance via permutation shuffling for 6 features using 1000 rows with 3 shuffle sets...\u001b[0m\n",
      "\u001b[34m#01114.44s#011= Expected runtime (4.81s per shuffle set)\u001b[0m\n",
      "\n",
      "2021-12-01 03:16:46 Uploading - Uploading generated training model\u001b[34m#0116.78s#011= Actual runtime (Completed 3 of 3 shuffle sets)\u001b[0m\n",
      "\u001b[34m2021-12-01 03:16:44,246 sagemaker-training-toolkit INFO     Reporting training SUCCESS\u001b[0m\n",
      "\n",
      "2021-12-01 03:17:26 Completed - Training job completed\n",
      "ProfilerReport-1638327738: NoIssuesFound\n",
      "Training seconds: 720\n",
      "Billable seconds: 720\n"
     ]
    }
   ],
   "source": [
    "job_name = utils.unique_name_from_base(\"test-autogluon-image\")\n",
    "ag.fit(\n",
    "    {\"config\": config_input, \"train\": train_input, \"test\": eval_input},\n",
    "    job_name=job_name,\n",
    ")"
   ]
  },
  {
   "cell_type": "markdown",
   "id": "097dccc9",
   "metadata": {},
   "source": [
    "#### Model Export"
   ]
  },
  {
   "cell_type": "code",
   "execution_count": 64,
   "id": "3abe78f4",
   "metadata": {},
   "outputs": [
    {
     "name": "stdout",
     "output_type": "stream",
     "text": [
      "download: s3://sagemaker-ap-northeast-2-806174985048/test-autogluon-image-1638327738-14ba/output/model.tar.gz to ./model.tar.gz\n"
     ]
    }
   ],
   "source": [
    "!aws s3 cp {ag.model_data} ."
   ]
  },
  {
   "cell_type": "code",
   "execution_count": 65,
   "id": "396ea840",
   "metadata": {},
   "outputs": [
    {
     "name": "stdout",
     "output_type": "stream",
     "text": [
      "-rw-rw-r-- 1 ec2-user ec2-user 56386489 Dec  1 03:17 model.tar.gz\n"
     ]
    }
   ],
   "source": [
    "!ls -alF model.tar.gz"
   ]
  },
  {
   "cell_type": "markdown",
   "id": "92f0914d",
   "metadata": {},
   "source": [
    "### Endpoint Deployment"
   ]
  },
  {
   "cell_type": "code",
   "execution_count": 66,
   "id": "74502c84",
   "metadata": {},
   "outputs": [],
   "source": [
    "endpoint_name = sagemaker.utils.unique_name_from_base(\"sagemaker-autogluon-serving-trained-model\")\n",
    "\n",
    "model_data = sagemaker_session.upload_data(\n",
    "    path=os.path.join(\".\", \"model.tar.gz\"), key_prefix=f\"{endpoint_name}/models\"\n",
    ")"
   ]
  },
  {
   "cell_type": "markdown",
   "id": "9d999145",
   "metadata": {},
   "source": [
    "Deploy remote or local endpoint"
   ]
  },
  {
   "cell_type": "code",
   "execution_count": 67,
   "id": "d42c107c",
   "metadata": {},
   "outputs": [],
   "source": [
    "instance_type = \"ml.m5.2xlarge\"\n",
    "# instance_type = 'local'"
   ]
  },
  {
   "cell_type": "code",
   "execution_count": 68,
   "id": "6eb080b5",
   "metadata": {},
   "outputs": [],
   "source": [
    "model = AutoGluonInferenceModel(\n",
    "    model_data=model_data,\n",
    "    role=role,\n",
    "    region=region,\n",
    "    framework_version=\"0.3.1\",\n",
    "    instance_type=instance_type,\n",
    "    source_dir=\"scripts\",\n",
    "    entry_point=\"tabular_serve.py\",\n",
    ")"
   ]
  },
  {
   "cell_type": "code",
   "execution_count": 71,
   "id": "9124a1e9",
   "metadata": {},
   "outputs": [
    {
     "name": "stderr",
     "output_type": "stream",
     "text": [
      "Creating model with name: autogluon-inference-2021-12-01-03-22-59-714\n",
      "Creating endpoint with name autogluon-inference-2021-12-01-03-22-59-992\n"
     ]
    },
    {
     "name": "stdout",
     "output_type": "stream",
     "text": [
      "-----!"
     ]
    }
   ],
   "source": [
    "%%time\n",
    "predictor = model.deploy(\n",
    "    initial_instance_count=1, serializer=CSVSerializer(), instance_type=instance_type\n",
    ")"
   ]
  },
  {
   "cell_type": "markdown",
   "id": "79c323e3",
   "metadata": {},
   "source": [
    "#### Predict on unlabeled test data"
   ]
  },
  {
   "cell_type": "code",
   "execution_count": 77,
   "id": "71c4bea2",
   "metadata": {},
   "outputs": [],
   "source": [
    "df = pd.read_csv(\"data/test.csv\")\n",
    "data = df.drop(columns=\"is_attributed\")[:100].values"
   ]
  },
  {
   "cell_type": "code",
   "execution_count": 79,
   "id": "37f66f65",
   "metadata": {},
   "outputs": [],
   "source": [
    "preds = predictor.predict(data)"
   ]
  },
  {
   "cell_type": "code",
   "execution_count": 81,
   "id": "4cd27b98",
   "metadata": {},
   "outputs": [
    {
     "data": {
      "text/html": [
       "<div>\n",
       "<style scoped>\n",
       "    .dataframe tbody tr th:only-of-type {\n",
       "        vertical-align: middle;\n",
       "    }\n",
       "\n",
       "    .dataframe tbody tr th {\n",
       "        vertical-align: top;\n",
       "    }\n",
       "\n",
       "    .dataframe thead th {\n",
       "        text-align: right;\n",
       "    }\n",
       "</style>\n",
       "<table border=\"1\" class=\"dataframe\">\n",
       "  <thead>\n",
       "    <tr style=\"text-align: right;\">\n",
       "      <th></th>\n",
       "      <th>preds</th>\n",
       "      <th>actual</th>\n",
       "    </tr>\n",
       "  </thead>\n",
       "  <tbody>\n",
       "    <tr>\n",
       "      <th>0</th>\n",
       "      <td>0.0</td>\n",
       "      <td>0</td>\n",
       "    </tr>\n",
       "    <tr>\n",
       "      <th>1</th>\n",
       "      <td>0.0</td>\n",
       "      <td>0</td>\n",
       "    </tr>\n",
       "    <tr>\n",
       "      <th>2</th>\n",
       "      <td>0.0</td>\n",
       "      <td>0</td>\n",
       "    </tr>\n",
       "    <tr>\n",
       "      <th>3</th>\n",
       "      <td>0.0</td>\n",
       "      <td>0</td>\n",
       "    </tr>\n",
       "    <tr>\n",
       "      <th>4</th>\n",
       "      <td>0.0</td>\n",
       "      <td>0</td>\n",
       "    </tr>\n",
       "  </tbody>\n",
       "</table>\n",
       "</div>"
      ],
      "text/plain": [
       "   preds  actual\n",
       "0    0.0       0\n",
       "1    0.0       0\n",
       "2    0.0       0\n",
       "3    0.0       0\n",
       "4    0.0       0"
      ]
     },
     "execution_count": 81,
     "metadata": {},
     "output_type": "execute_result"
    }
   ],
   "source": [
    "p = pd.DataFrame({\"preds\": pd.DataFrame(preds)[0], \"actual\": df[\"is_attributed\"][: len(preds)]})\n",
    "p.head()"
   ]
  },
  {
   "cell_type": "code",
   "execution_count": 82,
   "id": "0e231ab2",
   "metadata": {},
   "outputs": [
    {
     "name": "stdout",
     "output_type": "stream",
     "text": [
      "100/100 are correct\n"
     ]
    }
   ],
   "source": [
    "print(f\"{(p.preds==p.actual).astype(int).sum()}/{len(p)} are correct\")"
   ]
  },
  {
   "cell_type": "markdown",
   "id": "76142fda",
   "metadata": {},
   "source": [
    "### Clean up Endpoint"
   ]
  },
  {
   "cell_type": "code",
   "execution_count": 84,
   "id": "29bdfa6c",
   "metadata": {},
   "outputs": [
    {
     "name": "stderr",
     "output_type": "stream",
     "text": [
      "Deleting endpoint configuration with name: autogluon-inference-2021-12-01-03-22-59-992\n",
      "Deleting endpoint with name: autogluon-inference-2021-12-01-03-22-59-992\n"
     ]
    }
   ],
   "source": [
    "predictor.delete_endpoint()"
   ]
  },
  {
   "cell_type": "code",
   "execution_count": null,
   "id": "1b45e4e8",
   "metadata": {},
   "outputs": [],
   "source": []
  }
 ],
 "metadata": {
  "kernelspec": {
   "display_name": "conda_mxnet_p36",
   "language": "python",
   "name": "conda_mxnet_p36"
  },
  "language_info": {
   "codemirror_mode": {
    "name": "ipython",
    "version": 3
   },
   "file_extension": ".py",
   "mimetype": "text/x-python",
   "name": "python",
   "nbconvert_exporter": "python",
   "pygments_lexer": "ipython3",
   "version": "3.6.13"
  }
 },
 "nbformat": 4,
 "nbformat_minor": 5
}
